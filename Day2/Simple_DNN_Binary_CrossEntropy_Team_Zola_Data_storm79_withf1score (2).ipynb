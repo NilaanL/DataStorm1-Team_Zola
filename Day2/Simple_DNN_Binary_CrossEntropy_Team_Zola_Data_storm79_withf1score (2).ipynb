{
  "nbformat": 4,
  "nbformat_minor": 0,
  "metadata": {
    "colab": {
      "name": "Simple DNN Binary_CrossEntropy_Team_Zola_Data_storm79%withf1score.ipynb",
      "provenance": [],
      "collapsed_sections": []
    },
    "kernelspec": {
      "name": "python3",
      "display_name": "Python 3"
    },
    "language_info": {
      "codemirror_mode": {
        "name": "ipython",
        "version": 3
      },
      "file_extension": ".py",
      "mimetype": "text/x-python",
      "name": "python",
      "nbconvert_exporter": "python",
      "pygments_lexer": "ipython3",
      "version": "3.7.4"
    },
    "accelerator": "TPU"
  },
  "cells": [
    {
      "cell_type": "code",
      "metadata": {
        "id": "egwdaj3q_EMv",
        "colab_type": "code",
        "outputId": "c4856368-9deb-4604-f721-908a3272e0eb",
        "colab": {
          "resources": {
            "http://localhost:8080/nbextensions/google.colab/files.js": {
              "data": "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",
              "ok": true,
              "headers": [
                [
                  "content-type",
                  "application/javascript"
                ]
              ],
              "status": 200,
              "status_text": ""
            }
          },
          "base_uri": "https://localhost:8080/",
          "height": 93
        }
      },
      "source": [
        "# Run this cell and select the kaggle.json file downloaded\n",
        "# from the Kaggle account settings page.\n",
        "from google.colab import files\n",
        "files.upload()\n"
      ],
      "execution_count": 1,
      "outputs": [
        {
          "output_type": "display_data",
          "data": {
            "text/html": [
              "\n",
              "     <input type=\"file\" id=\"files-730cc5f1-98a8-4aca-8fc8-f1e0355e1902\" name=\"files[]\" multiple disabled />\n",
              "     <output id=\"result-730cc5f1-98a8-4aca-8fc8-f1e0355e1902\">\n",
              "      Upload widget is only available when the cell has been executed in the\n",
              "      current browser session. Please rerun this cell to enable.\n",
              "      </output>\n",
              "      <script src=\"/nbextensions/google.colab/files.js\"></script> "
            ],
            "text/plain": [
              "<IPython.core.display.HTML object>"
            ]
          },
          "metadata": {
            "tags": []
          }
        },
        {
          "output_type": "stream",
          "text": [
            "Saving kaggle.json to kaggle.json\n"
          ],
          "name": "stdout"
        },
        {
          "output_type": "execute_result",
          "data": {
            "text/plain": [
              "{'kaggle.json': b'{\"username\":\"ds10012\",\"key\":\"7e8fcd5773f6e7de447364f3a4e52106\"}'}"
            ]
          },
          "metadata": {
            "tags": []
          },
          "execution_count": 1
        }
      ]
    },
    {
      "cell_type": "code",
      "metadata": {
        "id": "8Rc9HYex_F51",
        "colab_type": "code",
        "outputId": "8c0b3dd6-8ae7-442a-b60b-de33bf79bffa",
        "colab": {
          "base_uri": "https://localhost:8080/",
          "height": 34
        }
      },
      "source": [
        "# Let's make sure the kaggle.json file is present.\n",
        "!ls -lha kaggle.json"
      ],
      "execution_count": 2,
      "outputs": [
        {
          "output_type": "stream",
          "text": [
            "-rw-r--r-- 1 root root 63 Feb 15 12:27 kaggle.json\n"
          ],
          "name": "stdout"
        }
      ]
    },
    {
      "cell_type": "code",
      "metadata": {
        "id": "bdOKsOZR_GBf",
        "colab_type": "code",
        "colab": {}
      },
      "source": [
        "# Next, install the Kaggle API client.\n",
        "!pip install -q kaggle"
      ],
      "execution_count": 0,
      "outputs": []
    },
    {
      "cell_type": "code",
      "metadata": {
        "id": "MWo6FK0S_GEK",
        "colab_type": "code",
        "colab": {}
      },
      "source": [
        "!mkdir -p ~/.kaggle\n",
        "!cp kaggle.json ~/.kaggle/"
      ],
      "execution_count": 0,
      "outputs": []
    },
    {
      "cell_type": "code",
      "metadata": {
        "id": "gfYM7hOM_GGt",
        "colab_type": "code",
        "colab": {}
      },
      "source": [
        "#Give permissions to change avoids a warning on Kaggle tool startup.\n",
        "!chmod 600 ~/.kaggle/kaggle.json"
      ],
      "execution_count": 0,
      "outputs": []
    },
    {
      "cell_type": "code",
      "metadata": {
        "id": "aG-pkYDJ_GL4",
        "colab_type": "code",
        "outputId": "868bca3a-da3c-4f68-f8f5-bbd08c287667",
        "colab": {
          "base_uri": "https://localhost:8080/",
          "height": 246
        }
      },
      "source": [
        "#get dataset locally\n",
        "!kaggle competitions download -c data-storm-10"
      ],
      "execution_count": 6,
      "outputs": [
        {
          "output_type": "stream",
          "text": [
            "Warning: Looks like you're using an outdated API Version, please consider updating (server 1.5.6 / client 1.5.4)\n",
            "Downloading DATA%20STORM%201.0%20-%20First%20Round%20Competition%20Guidlines.pdf to /content\n",
            "  0% 0.00/213k [00:00<?, ?B/s]\n",
            "100% 213k/213k [00:00<00:00, 82.4MB/s]\n",
            "Downloading Credit_card_default%20-%20Business%20Problem%20-%20Assessment%20Criteria%20-%20Data%20Dictionary.xlsx to /content\n",
            "  0% 0.00/24.7k [00:00<?, ?B/s]\n",
            "100% 24.7k/24.7k [00:00<00:00, 23.9MB/s]\n",
            "Downloading credit_card_default_train.csv.zip to /content\n",
            "  0% 0.00/825k [00:00<?, ?B/s]\n",
            "100% 825k/825k [00:00<00:00, 52.3MB/s]\n",
            "Downloading credit_card_default_test.csv to /content\n",
            "  0% 0.00/660k [00:00<?, ?B/s]\n",
            "100% 660k/660k [00:00<00:00, 198MB/s]\n"
          ],
          "name": "stdout"
        }
      ]
    },
    {
      "cell_type": "code",
      "metadata": {
        "id": "JGdsLfAk_GJ4",
        "colab_type": "code",
        "outputId": "25586d32-3adf-430c-d2f9-e5b92a41bdf1",
        "colab": {
          "base_uri": "https://localhost:8080/",
          "height": 52
        }
      },
      "source": [
        "!mkdir train\n",
        "!unzip credit_card_default_train.csv -d train"
      ],
      "execution_count": 7,
      "outputs": [
        {
          "output_type": "stream",
          "text": [
            "Archive:  credit_card_default_train.csv.zip\n",
            "  inflating: train/credit_card_default_train.csv  \n"
          ],
          "name": "stdout"
        }
      ]
    },
    {
      "cell_type": "code",
      "metadata": {
        "colab_type": "code",
        "id": "cYlTBoLTHTXi",
        "outputId": "a81e6501-2e98-418a-c406-b8f98129843d",
        "colab": {
          "base_uri": "https://localhost:8080/",
          "height": 316
        }
      },
      "source": [
        "#let see our data\n",
        "import pandas as pd\n",
        "from sklearn.utils import shuffle\n",
        "\n",
        "credit = pd.read_csv('/content/train/credit_card_default_train.csv')\n",
        "credit = shuffle(credit)\n",
        "credit.head()"
      ],
      "execution_count": 221,
      "outputs": [
        {
          "output_type": "execute_result",
          "data": {
            "text/html": [
              "<div>\n",
              "<style scoped>\n",
              "    .dataframe tbody tr th:only-of-type {\n",
              "        vertical-align: middle;\n",
              "    }\n",
              "\n",
              "    .dataframe tbody tr th {\n",
              "        vertical-align: top;\n",
              "    }\n",
              "\n",
              "    .dataframe thead th {\n",
              "        text-align: right;\n",
              "    }\n",
              "</style>\n",
              "<table border=\"1\" class=\"dataframe\">\n",
              "  <thead>\n",
              "    <tr style=\"text-align: right;\">\n",
              "      <th></th>\n",
              "      <th>Client_ID</th>\n",
              "      <th>Balance_Limit_V1</th>\n",
              "      <th>Gender</th>\n",
              "      <th>EDUCATION_STATUS</th>\n",
              "      <th>MARITAL_STATUS</th>\n",
              "      <th>AGE</th>\n",
              "      <th>PAY_JULY</th>\n",
              "      <th>PAY_AUG</th>\n",
              "      <th>PAY_SEP</th>\n",
              "      <th>PAY_OCT</th>\n",
              "      <th>PAY_NOV</th>\n",
              "      <th>PAY_DEC</th>\n",
              "      <th>DUE_AMT_JULY</th>\n",
              "      <th>DUE_AMT_AUG</th>\n",
              "      <th>DUE_AMT_SEP</th>\n",
              "      <th>DUE_AMT_OCT</th>\n",
              "      <th>DUE_AMT_NOV</th>\n",
              "      <th>DUE_AMT_DEC</th>\n",
              "      <th>PAID_AMT_JULY</th>\n",
              "      <th>PAID_AMT_AUG</th>\n",
              "      <th>PAID_AMT_SEP</th>\n",
              "      <th>PAID_AMT_OCT</th>\n",
              "      <th>PAID_AMT_NOV</th>\n",
              "      <th>PAID_AMT_DEC</th>\n",
              "      <th>NEXT_MONTH_DEFAULT</th>\n",
              "    </tr>\n",
              "  </thead>\n",
              "  <tbody>\n",
              "    <tr>\n",
              "      <th>11559</th>\n",
              "      <td>A14452</td>\n",
              "      <td>100K</td>\n",
              "      <td>F</td>\n",
              "      <td>High School</td>\n",
              "      <td>Single</td>\n",
              "      <td>46-65</td>\n",
              "      <td>-1</td>\n",
              "      <td>-1</td>\n",
              "      <td>-1</td>\n",
              "      <td>-1</td>\n",
              "      <td>-1</td>\n",
              "      <td>-1</td>\n",
              "      <td>6727</td>\n",
              "      <td>901</td>\n",
              "      <td>1802</td>\n",
              "      <td>1802</td>\n",
              "      <td>1802</td>\n",
              "      <td>901</td>\n",
              "      <td>901</td>\n",
              "      <td>1802</td>\n",
              "      <td>1802</td>\n",
              "      <td>1802</td>\n",
              "      <td>901</td>\n",
              "      <td>1802</td>\n",
              "      <td>0</td>\n",
              "    </tr>\n",
              "    <tr>\n",
              "      <th>2837</th>\n",
              "      <td>A3503</td>\n",
              "      <td>300K</td>\n",
              "      <td>M</td>\n",
              "      <td>Other</td>\n",
              "      <td>Other</td>\n",
              "      <td>31-45</td>\n",
              "      <td>0</td>\n",
              "      <td>0</td>\n",
              "      <td>0</td>\n",
              "      <td>0</td>\n",
              "      <td>-2</td>\n",
              "      <td>-2</td>\n",
              "      <td>55299</td>\n",
              "      <td>54451</td>\n",
              "      <td>55782</td>\n",
              "      <td>0</td>\n",
              "      <td>0</td>\n",
              "      <td>0</td>\n",
              "      <td>3465</td>\n",
              "      <td>2335</td>\n",
              "      <td>0</td>\n",
              "      <td>0</td>\n",
              "      <td>0</td>\n",
              "      <td>0</td>\n",
              "      <td>0</td>\n",
              "    </tr>\n",
              "    <tr>\n",
              "      <th>2895</th>\n",
              "      <td>A3579</td>\n",
              "      <td>500K</td>\n",
              "      <td>F</td>\n",
              "      <td>Graduate</td>\n",
              "      <td>Other</td>\n",
              "      <td>Less than 30</td>\n",
              "      <td>-1</td>\n",
              "      <td>0</td>\n",
              "      <td>-1</td>\n",
              "      <td>-1</td>\n",
              "      <td>-1</td>\n",
              "      <td>-1</td>\n",
              "      <td>22516</td>\n",
              "      <td>39801</td>\n",
              "      <td>457</td>\n",
              "      <td>2021</td>\n",
              "      <td>4567</td>\n",
              "      <td>4740</td>\n",
              "      <td>23218</td>\n",
              "      <td>457</td>\n",
              "      <td>2026</td>\n",
              "      <td>4578</td>\n",
              "      <td>4754</td>\n",
              "      <td>6789</td>\n",
              "      <td>0</td>\n",
              "    </tr>\n",
              "    <tr>\n",
              "      <th>23655</th>\n",
              "      <td>A29573</td>\n",
              "      <td>500K</td>\n",
              "      <td>F</td>\n",
              "      <td>Graduate</td>\n",
              "      <td>Single</td>\n",
              "      <td>31-45</td>\n",
              "      <td>-1</td>\n",
              "      <td>-1</td>\n",
              "      <td>-1</td>\n",
              "      <td>-1</td>\n",
              "      <td>-1</td>\n",
              "      <td>-1</td>\n",
              "      <td>3654</td>\n",
              "      <td>753</td>\n",
              "      <td>8390</td>\n",
              "      <td>4544</td>\n",
              "      <td>9129</td>\n",
              "      <td>23862</td>\n",
              "      <td>753</td>\n",
              "      <td>8390</td>\n",
              "      <td>4544</td>\n",
              "      <td>9205</td>\n",
              "      <td>23862</td>\n",
              "      <td>18480</td>\n",
              "      <td>1</td>\n",
              "    </tr>\n",
              "    <tr>\n",
              "      <th>5575</th>\n",
              "      <td>A6891</td>\n",
              "      <td>200K</td>\n",
              "      <td>F</td>\n",
              "      <td>Graduate</td>\n",
              "      <td>Other</td>\n",
              "      <td>31-45</td>\n",
              "      <td>0</td>\n",
              "      <td>0</td>\n",
              "      <td>0</td>\n",
              "      <td>0</td>\n",
              "      <td>0</td>\n",
              "      <td>0</td>\n",
              "      <td>112689</td>\n",
              "      <td>98619</td>\n",
              "      <td>79910</td>\n",
              "      <td>89646</td>\n",
              "      <td>94576</td>\n",
              "      <td>94373</td>\n",
              "      <td>11550</td>\n",
              "      <td>6930</td>\n",
              "      <td>11550</td>\n",
              "      <td>11550</td>\n",
              "      <td>6930</td>\n",
              "      <td>4620</td>\n",
              "      <td>0</td>\n",
              "    </tr>\n",
              "  </tbody>\n",
              "</table>\n",
              "</div>"
            ],
            "text/plain": [
              "      Client_ID Balance_Limit_V1  ... PAID_AMT_DEC NEXT_MONTH_DEFAULT\n",
              "11559    A14452             100K  ...         1802                  0\n",
              "2837      A3503             300K  ...            0                  0\n",
              "2895      A3579             500K  ...         6789                  0\n",
              "23655    A29573             500K  ...        18480                  1\n",
              "5575      A6891             200K  ...         4620                  0\n",
              "\n",
              "[5 rows x 25 columns]"
            ]
          },
          "metadata": {
            "tags": []
          },
          "execution_count": 221
        }
      ]
    },
    {
      "cell_type": "code",
      "metadata": {
        "colab_type": "code",
        "id": "x6Ay7WhPsnAi",
        "outputId": "40218107-e231-461b-e16e-f33e8825127f",
        "colab": {
          "base_uri": "https://localhost:8080/",
          "height": 545
        }
      },
      "source": [
        "credit.info()"
      ],
      "execution_count": 222,
      "outputs": [
        {
          "output_type": "stream",
          "text": [
            "<class 'pandas.core.frame.DataFrame'>\n",
            "Int64Index: 24000 entries, 11559 to 20658\n",
            "Data columns (total 25 columns):\n",
            "Client_ID             24000 non-null object\n",
            "Balance_Limit_V1      24000 non-null object\n",
            "Gender                24000 non-null object\n",
            "EDUCATION_STATUS      24000 non-null object\n",
            "MARITAL_STATUS        24000 non-null object\n",
            "AGE                   24000 non-null object\n",
            "PAY_JULY              24000 non-null int64\n",
            "PAY_AUG               24000 non-null int64\n",
            "PAY_SEP               24000 non-null int64\n",
            "PAY_OCT               24000 non-null int64\n",
            "PAY_NOV               24000 non-null int64\n",
            "PAY_DEC               24000 non-null int64\n",
            "DUE_AMT_JULY          24000 non-null int64\n",
            "DUE_AMT_AUG           24000 non-null int64\n",
            "DUE_AMT_SEP           24000 non-null int64\n",
            "DUE_AMT_OCT           24000 non-null int64\n",
            "DUE_AMT_NOV           24000 non-null int64\n",
            "DUE_AMT_DEC           24000 non-null int64\n",
            "PAID_AMT_JULY         24000 non-null int64\n",
            "PAID_AMT_AUG          24000 non-null int64\n",
            "PAID_AMT_SEP          24000 non-null int64\n",
            "PAID_AMT_OCT          24000 non-null int64\n",
            "PAID_AMT_NOV          24000 non-null int64\n",
            "PAID_AMT_DEC          24000 non-null int64\n",
            "NEXT_MONTH_DEFAULT    24000 non-null int64\n",
            "dtypes: int64(19), object(6)\n",
            "memory usage: 4.8+ MB\n"
          ],
          "name": "stdout"
        }
      ]
    },
    {
      "cell_type": "code",
      "metadata": {
        "id": "eDj2HV6zDPqt",
        "colab_type": "code",
        "outputId": "d33048ec-7e9c-405b-c5e2-88036d267f0c",
        "colab": {
          "base_uri": "https://localhost:8080/",
          "height": 105
        }
      },
      "source": [
        "credit[\"Balance_Limit_V1\"].describe()"
      ],
      "execution_count": 223,
      "outputs": [
        {
          "output_type": "execute_result",
          "data": {
            "text/plain": [
              "count     24000\n",
              "unique        8\n",
              "top          1M\n",
              "freq       5951\n",
              "Name: Balance_Limit_V1, dtype: object"
            ]
          },
          "metadata": {
            "tags": []
          },
          "execution_count": 223
        }
      ]
    },
    {
      "cell_type": "code",
      "metadata": {
        "id": "mV2NfFOADPqv",
        "colab_type": "code",
        "outputId": "28e112bd-91cf-4656-cf5f-33cd5ca0f705",
        "colab": {
          "base_uri": "https://localhost:8080/",
          "height": 175
        }
      },
      "source": [
        "credit[\"NEXT_MONTH_DEFAULT\"].describe()"
      ],
      "execution_count": 224,
      "outputs": [
        {
          "output_type": "execute_result",
          "data": {
            "text/plain": [
              "count    24000.000000\n",
              "mean         0.222083\n",
              "std          0.415656\n",
              "min          0.000000\n",
              "25%          0.000000\n",
              "50%          0.000000\n",
              "75%          0.000000\n",
              "max          1.000000\n",
              "Name: NEXT_MONTH_DEFAULT, dtype: float64"
            ]
          },
          "metadata": {
            "tags": []
          },
          "execution_count": 224
        }
      ]
    },
    {
      "cell_type": "code",
      "metadata": {
        "colab_type": "code",
        "id": "yoAXr-4CtdDS",
        "outputId": "7090d6f5-a3c9-4387-a7a7-a6d1579a0da7",
        "colab": {
          "base_uri": "https://localhost:8080/",
          "height": 105
        }
      },
      "source": [
        "credit[\"MARITAL_STATUS\"].describe()"
      ],
      "execution_count": 225,
      "outputs": [
        {
          "output_type": "execute_result",
          "data": {
            "text/plain": [
              "count     24000\n",
              "unique        2\n",
              "top       Other\n",
              "freq      13070\n",
              "Name: MARITAL_STATUS, dtype: object"
            ]
          },
          "metadata": {
            "tags": []
          },
          "execution_count": 225
        }
      ]
    },
    {
      "cell_type": "code",
      "metadata": {
        "id": "HftKemf8QKqz",
        "colab_type": "code",
        "outputId": "bcd1d735-81c1-4330-beb4-b072ea6d5a0b",
        "colab": {
          "base_uri": "https://localhost:8080/",
          "height": 87
        }
      },
      "source": [
        "credit[\"EDUCATION_STATUS\"].value_counts()"
      ],
      "execution_count": 226,
      "outputs": [
        {
          "output_type": "execute_result",
          "data": {
            "text/plain": [
              "Other          11597\n",
              "Graduate        8478\n",
              "High School     3925\n",
              "Name: EDUCATION_STATUS, dtype: int64"
            ]
          },
          "metadata": {
            "tags": []
          },
          "execution_count": 226
        }
      ]
    },
    {
      "cell_type": "code",
      "metadata": {
        "id": "e2IMMTYMQSrT",
        "colab_type": "code",
        "outputId": "6fde82eb-5e32-435b-9dd0-61e0b33de641",
        "colab": {
          "base_uri": "https://localhost:8080/",
          "height": 105
        }
      },
      "source": [
        "credit[\"AGE\"].value_counts()"
      ],
      "execution_count": 227,
      "outputs": [
        {
          "output_type": "execute_result",
          "data": {
            "text/plain": [
              "31-45           12124\n",
              "Less than 30     7638\n",
              "46-65            4150\n",
              "More than 65       88\n",
              "Name: AGE, dtype: int64"
            ]
          },
          "metadata": {
            "tags": []
          },
          "execution_count": 227
        }
      ]
    },
    {
      "cell_type": "code",
      "metadata": {
        "id": "55VL0Y9HDPq6",
        "colab_type": "code",
        "outputId": "0c7dc668-ecc0-403d-a994-2034c1009b2b",
        "colab": {
          "base_uri": "https://localhost:8080/",
          "height": 70
        }
      },
      "source": [
        "credit[\"MARITAL_STATUS\"].value_counts()"
      ],
      "execution_count": 228,
      "outputs": [
        {
          "output_type": "execute_result",
          "data": {
            "text/plain": [
              "Other     13070\n",
              "Single    10930\n",
              "Name: MARITAL_STATUS, dtype: int64"
            ]
          },
          "metadata": {
            "tags": []
          },
          "execution_count": 228
        }
      ]
    },
    {
      "cell_type": "code",
      "metadata": {
        "id": "Icfp7xRfEOkT",
        "colab_type": "code",
        "outputId": "3f9e7185-3de2-412f-cf95-122e88a46852",
        "colab": {
          "base_uri": "https://localhost:8080/",
          "height": 70
        }
      },
      "source": [
        "credit[\"Gender\"].value_counts()"
      ],
      "execution_count": 229,
      "outputs": [
        {
          "output_type": "execute_result",
          "data": {
            "text/plain": [
              "M    14460\n",
              "F     9540\n",
              "Name: Gender, dtype: int64"
            ]
          },
          "metadata": {
            "tags": []
          },
          "execution_count": 229
        }
      ]
    },
    {
      "cell_type": "code",
      "metadata": {
        "id": "Shje0AtEDfm4",
        "colab_type": "code",
        "outputId": "2352f85e-997f-4481-d2c3-73ece3a152e7",
        "colab": {
          "base_uri": "https://localhost:8080/",
          "height": 70
        }
      },
      "source": [
        "credit[\"NEXT_MONTH_DEFAULT\"].value_counts()"
      ],
      "execution_count": 230,
      "outputs": [
        {
          "output_type": "execute_result",
          "data": {
            "text/plain": [
              "0    18670\n",
              "1     5330\n",
              "Name: NEXT_MONTH_DEFAULT, dtype: int64"
            ]
          },
          "metadata": {
            "tags": []
          },
          "execution_count": 230
        }
      ]
    },
    {
      "cell_type": "markdown",
      "metadata": {
        "colab_type": "text",
        "id": "nfc1gAKRDzpt"
      },
      "source": [
        "**Traiing set is not balnced**"
      ]
    },
    {
      "cell_type": "code",
      "metadata": {
        "id": "3QKWTrlTDPq-",
        "colab_type": "code",
        "outputId": "f315d160-083c-48e6-f198-c8a0268386d9",
        "colab": {
          "base_uri": "https://localhost:8080/",
          "height": 474
        }
      },
      "source": [
        "credit.isnull().sum()"
      ],
      "execution_count": 231,
      "outputs": [
        {
          "output_type": "execute_result",
          "data": {
            "text/plain": [
              "Client_ID             0\n",
              "Balance_Limit_V1      0\n",
              "Gender                0\n",
              "EDUCATION_STATUS      0\n",
              "MARITAL_STATUS        0\n",
              "AGE                   0\n",
              "PAY_JULY              0\n",
              "PAY_AUG               0\n",
              "PAY_SEP               0\n",
              "PAY_OCT               0\n",
              "PAY_NOV               0\n",
              "PAY_DEC               0\n",
              "DUE_AMT_JULY          0\n",
              "DUE_AMT_AUG           0\n",
              "DUE_AMT_SEP           0\n",
              "DUE_AMT_OCT           0\n",
              "DUE_AMT_NOV           0\n",
              "DUE_AMT_DEC           0\n",
              "PAID_AMT_JULY         0\n",
              "PAID_AMT_AUG          0\n",
              "PAID_AMT_SEP          0\n",
              "PAID_AMT_OCT          0\n",
              "PAID_AMT_NOV          0\n",
              "PAID_AMT_DEC          0\n",
              "NEXT_MONTH_DEFAULT    0\n",
              "dtype: int64"
            ]
          },
          "metadata": {
            "tags": []
          },
          "execution_count": 231
        }
      ]
    },
    {
      "cell_type": "markdown",
      "metadata": {
        "id": "sC881ywTPTaF",
        "colab_type": "text"
      },
      "source": [
        "<h1>Pre Processsing<h1>\n",
        "\n",
        "---\n",
        "\n",
        "\n"
      ]
    },
    {
      "cell_type": "code",
      "metadata": {
        "id": "bWMlw3XQPq8M",
        "colab_type": "code",
        "colab": {}
      },
      "source": [
        "from sklearn import preprocessing"
      ],
      "execution_count": 0,
      "outputs": []
    },
    {
      "cell_type": "code",
      "metadata": {
        "id": "JYvYwEY1JSHr",
        "colab_type": "code",
        "colab": {}
      },
      "source": [
        "credit['limit'] = credit.Balance_Limit_V1.copy()"
      ],
      "execution_count": 0,
      "outputs": []
    },
    {
      "cell_type": "code",
      "metadata": {
        "id": "Krqz--ZQEc8X",
        "colab_type": "code",
        "outputId": "0d191537-a5bd-4c45-ff4e-e58912f57626",
        "colab": {
          "base_uri": "https://localhost:8080/",
          "height": 193
        }
      },
      "source": [
        "for i in range (len(credit['limit'])):\n",
        "  if (credit['limit'][i][-1]=='M'):\n",
        "    credit['limit'][i]=int(float(credit['Balance_Limit_V1'][i][:-1])*1000000)\n",
        "  elif (credit['limit'][i][-1]=='K'):\n",
        "    credit['limit'][i]=int(float(credit['limit'][i][:-1])*1000)\n",
        "  else:\n",
        "    credit['limit'][i]=int(credit['limit'][i])"
      ],
      "execution_count": 234,
      "outputs": [
        {
          "output_type": "stream",
          "text": [
            "/usr/local/lib/python3.6/dist-packages/ipykernel_launcher.py:3: SettingWithCopyWarning: \n",
            "A value is trying to be set on a copy of a slice from a DataFrame\n",
            "\n",
            "See the caveats in the documentation: http://pandas.pydata.org/pandas-docs/stable/user_guide/indexing.html#returning-a-view-versus-a-copy\n",
            "  This is separate from the ipykernel package so we can avoid doing imports until\n",
            "/usr/local/lib/python3.6/dist-packages/ipykernel_launcher.py:5: SettingWithCopyWarning: \n",
            "A value is trying to be set on a copy of a slice from a DataFrame\n",
            "\n",
            "See the caveats in the documentation: http://pandas.pydata.org/pandas-docs/stable/user_guide/indexing.html#returning-a-view-versus-a-copy\n",
            "  \"\"\"\n"
          ],
          "name": "stderr"
        }
      ]
    },
    {
      "cell_type": "code",
      "metadata": {
        "id": "nQy31gAhI0qf",
        "colab_type": "code",
        "outputId": "d5b49402-e6dc-429b-9842-dcd2d86ffcaa",
        "colab": {
          "base_uri": "https://localhost:8080/",
          "height": 105
        }
      },
      "source": [
        "credit[\"limit\"].describe()\n"
      ],
      "execution_count": 235,
      "outputs": [
        {
          "output_type": "execute_result",
          "data": {
            "text/plain": [
              "count       24000\n",
              "unique          8\n",
              "top       1000000\n",
              "freq         5951\n",
              "Name: limit, dtype: int64"
            ]
          },
          "metadata": {
            "tags": []
          },
          "execution_count": 235
        }
      ]
    },
    {
      "cell_type": "code",
      "metadata": {
        "id": "Z2kxk4QpKHbw",
        "colab_type": "code",
        "colab": {}
      },
      "source": [
        "credit=credit.drop('Balance_Limit_V1',axis=1)"
      ],
      "execution_count": 0,
      "outputs": []
    },
    {
      "cell_type": "code",
      "metadata": {
        "id": "NM7qwJQkOziQ",
        "colab_type": "code",
        "colab": {}
      },
      "source": [
        "label_encoder = preprocessing.LabelEncoder()\n",
        "from sklearn.preprocessing import OneHotEncoder\n",
        "cat_encoder = OneHotEncoder()"
      ],
      "execution_count": 0,
      "outputs": []
    },
    {
      "cell_type": "code",
      "metadata": {
        "id": "-6LyZK1amgKb",
        "colab_type": "code",
        "colab": {}
      },
      "source": [
        "def onehot(data):\n",
        "  label_encoder = preprocessing.LabelEncoder()\n",
        "  from sklearn.preprocessing import OneHotEncoder\n",
        "  cat_encoder = OneHotEncoder()\n",
        "  encoded = label_encoder.fit_transform(data)\n",
        "  encoded_1hot=cat_encoder.fit_transform(encoded.reshape(-1,1))\n",
        "  return encoded_1hot.toarray()\n"
      ],
      "execution_count": 0,
      "outputs": []
    },
    {
      "cell_type": "code",
      "metadata": {
        "id": "AMuw1V4hOzqW",
        "colab_type": "code",
        "colab": {}
      },
      "source": [
        "Gender_1hot_data  = onehot(credit[\"Gender\"])\n",
        "credit = credit.drop(\"Gender\",axis=1)"
      ],
      "execution_count": 0,
      "outputs": []
    },
    {
      "cell_type": "code",
      "metadata": {
        "id": "QC-c_ealnX83",
        "colab_type": "code",
        "outputId": "a4f592d1-94bc-4b77-b08f-fa6f64c52e7a",
        "colab": {
          "base_uri": "https://localhost:8080/",
          "height": 140
        }
      },
      "source": [
        "print(Gender_1hot_data)"
      ],
      "execution_count": 240,
      "outputs": [
        {
          "output_type": "stream",
          "text": [
            "[[1. 0.]\n",
            " [0. 1.]\n",
            " [1. 0.]\n",
            " ...\n",
            " [1. 0.]\n",
            " [0. 1.]\n",
            " [0. 1.]]\n"
          ],
          "name": "stdout"
        }
      ]
    },
    {
      "cell_type": "code",
      "metadata": {
        "id": "7tYOD4I9P7BM",
        "colab_type": "code",
        "outputId": "60979664-0154-4e11-aa68-a1824f0fb892",
        "colab": {
          "base_uri": "https://localhost:8080/",
          "height": 140
        }
      },
      "source": [
        "Marital_status_1hot_data = onehot(credit[\"MARITAL_STATUS\"])\n",
        "print(Marital_status_1hot_data)\n",
        "credit = credit.drop(\"MARITAL_STATUS\",axis=1)"
      ],
      "execution_count": 241,
      "outputs": [
        {
          "output_type": "stream",
          "text": [
            "[[0. 1.]\n",
            " [1. 0.]\n",
            " [1. 0.]\n",
            " ...\n",
            " [0. 1.]\n",
            " [0. 1.]\n",
            " [1. 0.]]\n"
          ],
          "name": "stdout"
        }
      ]
    },
    {
      "cell_type": "code",
      "metadata": {
        "id": "zsY_Zt0-P7Ge",
        "colab_type": "code",
        "colab": {}
      },
      "source": [
        "credit[\"EDUCATION_STATUS\"]=label_encoder.fit_transform(credit['EDUCATION_STATUS'])"
      ],
      "execution_count": 0,
      "outputs": []
    },
    {
      "cell_type": "code",
      "metadata": {
        "id": "5fVdmzdwP7JM",
        "colab_type": "code",
        "colab": {}
      },
      "source": [
        "credit[\"AGE\"]=label_encoder.fit_transform(credit['AGE'])"
      ],
      "execution_count": 0,
      "outputs": []
    },
    {
      "cell_type": "code",
      "metadata": {
        "id": "-nzPUaZLP7Ef",
        "colab_type": "code",
        "outputId": "4b1edad9-7f18-4e8d-c902-f2e5bfe65497",
        "colab": {
          "base_uri": "https://localhost:8080/",
          "height": 527
        }
      },
      "source": [
        "print(credit.info())"
      ],
      "execution_count": 244,
      "outputs": [
        {
          "output_type": "stream",
          "text": [
            "<class 'pandas.core.frame.DataFrame'>\n",
            "Int64Index: 24000 entries, 11559 to 20658\n",
            "Data columns (total 23 columns):\n",
            "Client_ID             24000 non-null object\n",
            "EDUCATION_STATUS      24000 non-null int64\n",
            "AGE                   24000 non-null int64\n",
            "PAY_JULY              24000 non-null int64\n",
            "PAY_AUG               24000 non-null int64\n",
            "PAY_SEP               24000 non-null int64\n",
            "PAY_OCT               24000 non-null int64\n",
            "PAY_NOV               24000 non-null int64\n",
            "PAY_DEC               24000 non-null int64\n",
            "DUE_AMT_JULY          24000 non-null int64\n",
            "DUE_AMT_AUG           24000 non-null int64\n",
            "DUE_AMT_SEP           24000 non-null int64\n",
            "DUE_AMT_OCT           24000 non-null int64\n",
            "DUE_AMT_NOV           24000 non-null int64\n",
            "DUE_AMT_DEC           24000 non-null int64\n",
            "PAID_AMT_JULY         24000 non-null int64\n",
            "PAID_AMT_AUG          24000 non-null int64\n",
            "PAID_AMT_SEP          24000 non-null int64\n",
            "PAID_AMT_OCT          24000 non-null int64\n",
            "PAID_AMT_NOV          24000 non-null int64\n",
            "PAID_AMT_DEC          24000 non-null int64\n",
            "NEXT_MONTH_DEFAULT    24000 non-null int64\n",
            "limit                 24000 non-null object\n",
            "dtypes: int64(21), object(2)\n",
            "memory usage: 5.0+ MB\n",
            "None\n"
          ],
          "name": "stdout"
        }
      ]
    },
    {
      "cell_type": "code",
      "metadata": {
        "id": "vs1oYtdGQ9CT",
        "colab_type": "code",
        "outputId": "195c69f1-e2f1-4d48-d6a4-537d816a0f23",
        "colab": {
          "base_uri": "https://localhost:8080/",
          "height": 215
        }
      },
      "source": [
        "credit = credit.drop(\"Client_ID\",axis=1)\n",
        "credit.head()"
      ],
      "execution_count": 245,
      "outputs": [
        {
          "output_type": "execute_result",
          "data": {
            "text/html": [
              "<div>\n",
              "<style scoped>\n",
              "    .dataframe tbody tr th:only-of-type {\n",
              "        vertical-align: middle;\n",
              "    }\n",
              "\n",
              "    .dataframe tbody tr th {\n",
              "        vertical-align: top;\n",
              "    }\n",
              "\n",
              "    .dataframe thead th {\n",
              "        text-align: right;\n",
              "    }\n",
              "</style>\n",
              "<table border=\"1\" class=\"dataframe\">\n",
              "  <thead>\n",
              "    <tr style=\"text-align: right;\">\n",
              "      <th></th>\n",
              "      <th>EDUCATION_STATUS</th>\n",
              "      <th>AGE</th>\n",
              "      <th>PAY_JULY</th>\n",
              "      <th>PAY_AUG</th>\n",
              "      <th>PAY_SEP</th>\n",
              "      <th>PAY_OCT</th>\n",
              "      <th>PAY_NOV</th>\n",
              "      <th>PAY_DEC</th>\n",
              "      <th>DUE_AMT_JULY</th>\n",
              "      <th>DUE_AMT_AUG</th>\n",
              "      <th>DUE_AMT_SEP</th>\n",
              "      <th>DUE_AMT_OCT</th>\n",
              "      <th>DUE_AMT_NOV</th>\n",
              "      <th>DUE_AMT_DEC</th>\n",
              "      <th>PAID_AMT_JULY</th>\n",
              "      <th>PAID_AMT_AUG</th>\n",
              "      <th>PAID_AMT_SEP</th>\n",
              "      <th>PAID_AMT_OCT</th>\n",
              "      <th>PAID_AMT_NOV</th>\n",
              "      <th>PAID_AMT_DEC</th>\n",
              "      <th>NEXT_MONTH_DEFAULT</th>\n",
              "      <th>limit</th>\n",
              "    </tr>\n",
              "  </thead>\n",
              "  <tbody>\n",
              "    <tr>\n",
              "      <th>11559</th>\n",
              "      <td>1</td>\n",
              "      <td>1</td>\n",
              "      <td>-1</td>\n",
              "      <td>-1</td>\n",
              "      <td>-1</td>\n",
              "      <td>-1</td>\n",
              "      <td>-1</td>\n",
              "      <td>-1</td>\n",
              "      <td>6727</td>\n",
              "      <td>901</td>\n",
              "      <td>1802</td>\n",
              "      <td>1802</td>\n",
              "      <td>1802</td>\n",
              "      <td>901</td>\n",
              "      <td>901</td>\n",
              "      <td>1802</td>\n",
              "      <td>1802</td>\n",
              "      <td>1802</td>\n",
              "      <td>901</td>\n",
              "      <td>1802</td>\n",
              "      <td>0</td>\n",
              "      <td>100000</td>\n",
              "    </tr>\n",
              "    <tr>\n",
              "      <th>2837</th>\n",
              "      <td>2</td>\n",
              "      <td>0</td>\n",
              "      <td>0</td>\n",
              "      <td>0</td>\n",
              "      <td>0</td>\n",
              "      <td>0</td>\n",
              "      <td>-2</td>\n",
              "      <td>-2</td>\n",
              "      <td>55299</td>\n",
              "      <td>54451</td>\n",
              "      <td>55782</td>\n",
              "      <td>0</td>\n",
              "      <td>0</td>\n",
              "      <td>0</td>\n",
              "      <td>3465</td>\n",
              "      <td>2335</td>\n",
              "      <td>0</td>\n",
              "      <td>0</td>\n",
              "      <td>0</td>\n",
              "      <td>0</td>\n",
              "      <td>0</td>\n",
              "      <td>300000</td>\n",
              "    </tr>\n",
              "    <tr>\n",
              "      <th>2895</th>\n",
              "      <td>0</td>\n",
              "      <td>2</td>\n",
              "      <td>-1</td>\n",
              "      <td>0</td>\n",
              "      <td>-1</td>\n",
              "      <td>-1</td>\n",
              "      <td>-1</td>\n",
              "      <td>-1</td>\n",
              "      <td>22516</td>\n",
              "      <td>39801</td>\n",
              "      <td>457</td>\n",
              "      <td>2021</td>\n",
              "      <td>4567</td>\n",
              "      <td>4740</td>\n",
              "      <td>23218</td>\n",
              "      <td>457</td>\n",
              "      <td>2026</td>\n",
              "      <td>4578</td>\n",
              "      <td>4754</td>\n",
              "      <td>6789</td>\n",
              "      <td>0</td>\n",
              "      <td>500000</td>\n",
              "    </tr>\n",
              "    <tr>\n",
              "      <th>23655</th>\n",
              "      <td>0</td>\n",
              "      <td>0</td>\n",
              "      <td>-1</td>\n",
              "      <td>-1</td>\n",
              "      <td>-1</td>\n",
              "      <td>-1</td>\n",
              "      <td>-1</td>\n",
              "      <td>-1</td>\n",
              "      <td>3654</td>\n",
              "      <td>753</td>\n",
              "      <td>8390</td>\n",
              "      <td>4544</td>\n",
              "      <td>9129</td>\n",
              "      <td>23862</td>\n",
              "      <td>753</td>\n",
              "      <td>8390</td>\n",
              "      <td>4544</td>\n",
              "      <td>9205</td>\n",
              "      <td>23862</td>\n",
              "      <td>18480</td>\n",
              "      <td>1</td>\n",
              "      <td>500000</td>\n",
              "    </tr>\n",
              "    <tr>\n",
              "      <th>5575</th>\n",
              "      <td>0</td>\n",
              "      <td>0</td>\n",
              "      <td>0</td>\n",
              "      <td>0</td>\n",
              "      <td>0</td>\n",
              "      <td>0</td>\n",
              "      <td>0</td>\n",
              "      <td>0</td>\n",
              "      <td>112689</td>\n",
              "      <td>98619</td>\n",
              "      <td>79910</td>\n",
              "      <td>89646</td>\n",
              "      <td>94576</td>\n",
              "      <td>94373</td>\n",
              "      <td>11550</td>\n",
              "      <td>6930</td>\n",
              "      <td>11550</td>\n",
              "      <td>11550</td>\n",
              "      <td>6930</td>\n",
              "      <td>4620</td>\n",
              "      <td>0</td>\n",
              "      <td>200000</td>\n",
              "    </tr>\n",
              "  </tbody>\n",
              "</table>\n",
              "</div>"
            ],
            "text/plain": [
              "       EDUCATION_STATUS  AGE  ...  NEXT_MONTH_DEFAULT   limit\n",
              "11559                 1    1  ...                   0  100000\n",
              "2837                  2    0  ...                   0  300000\n",
              "2895                  0    2  ...                   0  500000\n",
              "23655                 0    0  ...                   1  500000\n",
              "5575                  0    0  ...                   0  200000\n",
              "\n",
              "[5 rows x 22 columns]"
            ]
          },
          "metadata": {
            "tags": []
          },
          "execution_count": 245
        }
      ]
    },
    {
      "cell_type": "code",
      "metadata": {
        "id": "KpxN21dLr8_Z",
        "colab_type": "code",
        "outputId": "d25378ee-b249-4f20-ded7-56c250a406c0",
        "colab": {
          "base_uri": "https://localhost:8080/",
          "height": 140
        }
      },
      "source": [
        "output = credit[[\"NEXT_MONTH_DEFAULT\"]].to_numpy()\n",
        "credit = credit.drop(\"NEXT_MONTH_DEFAULT\",axis=1)\n",
        "print(output)"
      ],
      "execution_count": 246,
      "outputs": [
        {
          "output_type": "stream",
          "text": [
            "[[0]\n",
            " [0]\n",
            " [0]\n",
            " ...\n",
            " [1]\n",
            " [0]\n",
            " [0]]\n"
          ],
          "name": "stdout"
        }
      ]
    },
    {
      "cell_type": "code",
      "metadata": {
        "id": "yYpv-dkxK4I3",
        "colab_type": "code",
        "outputId": "8cc955f9-6a0e-4832-b945-dff6cf7bc187",
        "colab": {
          "base_uri": "https://localhost:8080/",
          "height": 304
        }
      },
      "source": [
        "credit.describe()"
      ],
      "execution_count": 247,
      "outputs": [
        {
          "output_type": "execute_result",
          "data": {
            "text/html": [
              "<div>\n",
              "<style scoped>\n",
              "    .dataframe tbody tr th:only-of-type {\n",
              "        vertical-align: middle;\n",
              "    }\n",
              "\n",
              "    .dataframe tbody tr th {\n",
              "        vertical-align: top;\n",
              "    }\n",
              "\n",
              "    .dataframe thead th {\n",
              "        text-align: right;\n",
              "    }\n",
              "</style>\n",
              "<table border=\"1\" class=\"dataframe\">\n",
              "  <thead>\n",
              "    <tr style=\"text-align: right;\">\n",
              "      <th></th>\n",
              "      <th>EDUCATION_STATUS</th>\n",
              "      <th>AGE</th>\n",
              "      <th>PAY_JULY</th>\n",
              "      <th>PAY_AUG</th>\n",
              "      <th>PAY_SEP</th>\n",
              "      <th>PAY_OCT</th>\n",
              "      <th>PAY_NOV</th>\n",
              "      <th>PAY_DEC</th>\n",
              "      <th>DUE_AMT_JULY</th>\n",
              "      <th>DUE_AMT_AUG</th>\n",
              "      <th>DUE_AMT_SEP</th>\n",
              "      <th>DUE_AMT_OCT</th>\n",
              "      <th>DUE_AMT_NOV</th>\n",
              "      <th>DUE_AMT_DEC</th>\n",
              "      <th>PAID_AMT_JULY</th>\n",
              "      <th>PAID_AMT_AUG</th>\n",
              "      <th>PAID_AMT_SEP</th>\n",
              "      <th>PAID_AMT_OCT</th>\n",
              "      <th>PAID_AMT_NOV</th>\n",
              "      <th>PAID_AMT_DEC</th>\n",
              "    </tr>\n",
              "  </thead>\n",
              "  <tbody>\n",
              "    <tr>\n",
              "      <th>count</th>\n",
              "      <td>24000.000000</td>\n",
              "      <td>24000.000000</td>\n",
              "      <td>24000.000000</td>\n",
              "      <td>24000.000000</td>\n",
              "      <td>24000.000000</td>\n",
              "      <td>24000.000000</td>\n",
              "      <td>24000.000000</td>\n",
              "      <td>24000.000000</td>\n",
              "      <td>2.400000e+04</td>\n",
              "      <td>2.400000e+04</td>\n",
              "      <td>2.400000e+04</td>\n",
              "      <td>2.400000e+04</td>\n",
              "      <td>2.400000e+04</td>\n",
              "      <td>2.400000e+04</td>\n",
              "      <td>2.400000e+04</td>\n",
              "      <td>2.400000e+04</td>\n",
              "      <td>2.400000e+04</td>\n",
              "      <td>2.400000e+04</td>\n",
              "      <td>24000.000000</td>\n",
              "      <td>2.400000e+04</td>\n",
              "    </tr>\n",
              "    <tr>\n",
              "      <th>mean</th>\n",
              "      <td>1.129958</td>\n",
              "      <td>0.820417</td>\n",
              "      <td>-0.014208</td>\n",
              "      <td>-0.130042</td>\n",
              "      <td>-0.158667</td>\n",
              "      <td>-0.215542</td>\n",
              "      <td>-0.261167</td>\n",
              "      <td>-0.287667</td>\n",
              "      <td>1.188697e+05</td>\n",
              "      <td>1.140727e+05</td>\n",
              "      <td>1.092435e+05</td>\n",
              "      <td>1.003573e+05</td>\n",
              "      <td>9.377699e+04</td>\n",
              "      <td>9.034068e+04</td>\n",
              "      <td>1.330648e+04</td>\n",
              "      <td>1.386675e+04</td>\n",
              "      <td>1.209312e+04</td>\n",
              "      <td>1.122527e+04</td>\n",
              "      <td>11174.737208</td>\n",
              "      <td>1.230122e+04</td>\n",
              "    </tr>\n",
              "    <tr>\n",
              "      <th>std</th>\n",
              "      <td>0.905319</td>\n",
              "      <td>0.897701</td>\n",
              "      <td>1.124897</td>\n",
              "      <td>1.200566</td>\n",
              "      <td>1.198875</td>\n",
              "      <td>1.166608</td>\n",
              "      <td>1.131855</td>\n",
              "      <td>1.147847</td>\n",
              "      <td>1.710424e+05</td>\n",
              "      <td>1.652414e+05</td>\n",
              "      <td>1.614737e+05</td>\n",
              "      <td>1.490071e+05</td>\n",
              "      <td>1.417389e+05</td>\n",
              "      <td>1.387237e+05</td>\n",
              "      <td>3.935742e+04</td>\n",
              "      <td>5.648588e+04</td>\n",
              "      <td>4.065924e+04</td>\n",
              "      <td>3.624693e+04</td>\n",
              "      <td>36040.821759</td>\n",
              "      <td>4.233848e+04</td>\n",
              "    </tr>\n",
              "    <tr>\n",
              "      <th>min</th>\n",
              "      <td>0.000000</td>\n",
              "      <td>0.000000</td>\n",
              "      <td>-2.000000</td>\n",
              "      <td>-2.000000</td>\n",
              "      <td>-2.000000</td>\n",
              "      <td>-2.000000</td>\n",
              "      <td>-2.000000</td>\n",
              "      <td>-2.000000</td>\n",
              "      <td>-3.824900e+05</td>\n",
              "      <td>-1.611850e+05</td>\n",
              "      <td>-1.420790e+05</td>\n",
              "      <td>-3.927000e+05</td>\n",
              "      <td>-1.878820e+05</td>\n",
              "      <td>-7.844830e+05</td>\n",
              "      <td>0.000000e+00</td>\n",
              "      <td>0.000000e+00</td>\n",
              "      <td>0.000000e+00</td>\n",
              "      <td>0.000000e+00</td>\n",
              "      <td>0.000000</td>\n",
              "      <td>0.000000e+00</td>\n",
              "    </tr>\n",
              "    <tr>\n",
              "      <th>25%</th>\n",
              "      <td>0.000000</td>\n",
              "      <td>0.000000</td>\n",
              "      <td>-1.000000</td>\n",
              "      <td>-1.000000</td>\n",
              "      <td>-1.000000</td>\n",
              "      <td>-1.000000</td>\n",
              "      <td>-1.000000</td>\n",
              "      <td>-1.000000</td>\n",
              "      <td>8.246250e+03</td>\n",
              "      <td>6.968750e+03</td>\n",
              "      <td>6.238500e+03</td>\n",
              "      <td>5.429000e+03</td>\n",
              "      <td>4.179750e+03</td>\n",
              "      <td>2.913000e+03</td>\n",
              "      <td>2.310000e+03</td>\n",
              "      <td>1.956000e+03</td>\n",
              "      <td>9.010000e+02</td>\n",
              "      <td>6.930000e+02</td>\n",
              "      <td>610.000000</td>\n",
              "      <td>3.070000e+02</td>\n",
              "    </tr>\n",
              "    <tr>\n",
              "      <th>50%</th>\n",
              "      <td>1.000000</td>\n",
              "      <td>0.000000</td>\n",
              "      <td>0.000000</td>\n",
              "      <td>0.000000</td>\n",
              "      <td>0.000000</td>\n",
              "      <td>0.000000</td>\n",
              "      <td>0.000000</td>\n",
              "      <td>0.000000</td>\n",
              "      <td>5.156850e+04</td>\n",
              "      <td>4.871700e+04</td>\n",
              "      <td>4.641150e+04</td>\n",
              "      <td>4.410500e+04</td>\n",
              "      <td>4.186300e+04</td>\n",
              "      <td>3.940900e+04</td>\n",
              "      <td>4.920000e+03</td>\n",
              "      <td>4.646500e+03</td>\n",
              "      <td>4.197000e+03</td>\n",
              "      <td>3.465000e+03</td>\n",
              "      <td>3465.000000</td>\n",
              "      <td>3.465000e+03</td>\n",
              "    </tr>\n",
              "    <tr>\n",
              "      <th>75%</th>\n",
              "      <td>2.000000</td>\n",
              "      <td>2.000000</td>\n",
              "      <td>0.000000</td>\n",
              "      <td>0.000000</td>\n",
              "      <td>0.000000</td>\n",
              "      <td>0.000000</td>\n",
              "      <td>0.000000</td>\n",
              "      <td>0.000000</td>\n",
              "      <td>1.562745e+05</td>\n",
              "      <td>1.489050e+05</td>\n",
              "      <td>1.401622e+05</td>\n",
              "      <td>1.269750e+05</td>\n",
              "      <td>1.169262e+05</td>\n",
              "      <td>1.144352e+05</td>\n",
              "      <td>1.160500e+04</td>\n",
              "      <td>1.155000e+04</td>\n",
              "      <td>1.062600e+04</td>\n",
              "      <td>9.360000e+03</td>\n",
              "      <td>9411.500000</td>\n",
              "      <td>9.252500e+03</td>\n",
              "    </tr>\n",
              "    <tr>\n",
              "      <th>max</th>\n",
              "      <td>2.000000</td>\n",
              "      <td>3.000000</td>\n",
              "      <td>8.000000</td>\n",
              "      <td>8.000000</td>\n",
              "      <td>8.000000</td>\n",
              "      <td>8.000000</td>\n",
              "      <td>8.000000</td>\n",
              "      <td>8.000000</td>\n",
              "      <td>2.228020e+06</td>\n",
              "      <td>2.272881e+06</td>\n",
              "      <td>3.844046e+06</td>\n",
              "      <td>2.059564e+06</td>\n",
              "      <td>2.141765e+06</td>\n",
              "      <td>2.221444e+06</td>\n",
              "      <td>2.017905e+06</td>\n",
              "      <td>3.890638e+06</td>\n",
              "      <td>2.069852e+06</td>\n",
              "      <td>1.434510e+06</td>\n",
              "      <td>965557.000000</td>\n",
              "      <td>1.221218e+06</td>\n",
              "    </tr>\n",
              "  </tbody>\n",
              "</table>\n",
              "</div>"
            ],
            "text/plain": [
              "       EDUCATION_STATUS           AGE  ...   PAID_AMT_NOV  PAID_AMT_DEC\n",
              "count      24000.000000  24000.000000  ...   24000.000000  2.400000e+04\n",
              "mean           1.129958      0.820417  ...   11174.737208  1.230122e+04\n",
              "std            0.905319      0.897701  ...   36040.821759  4.233848e+04\n",
              "min            0.000000      0.000000  ...       0.000000  0.000000e+00\n",
              "25%            0.000000      0.000000  ...     610.000000  3.070000e+02\n",
              "50%            1.000000      0.000000  ...    3465.000000  3.465000e+03\n",
              "75%            2.000000      2.000000  ...    9411.500000  9.252500e+03\n",
              "max            2.000000      3.000000  ...  965557.000000  1.221218e+06\n",
              "\n",
              "[8 rows x 20 columns]"
            ]
          },
          "metadata": {
            "tags": []
          },
          "execution_count": 247
        }
      ]
    },
    {
      "cell_type": "code",
      "metadata": {
        "id": "Tafw1p9lQ8_4",
        "colab_type": "code",
        "colab": {}
      },
      "source": [
        "min_max_scaler = preprocessing.MinMaxScaler()\n",
        "raw_data = min_max_scaler.fit_transform(credit.values)"
      ],
      "execution_count": 0,
      "outputs": []
    },
    {
      "cell_type": "code",
      "metadata": {
        "id": "kWvwjmmmQ84Y",
        "colab_type": "code",
        "outputId": "fc2bbf45-831e-4935-a6b3-9cd35e6f24cc",
        "colab": {
          "base_uri": "https://localhost:8080/",
          "height": 738
        }
      },
      "source": [
        "print(raw_data)\n",
        "print(raw_data.shape)\n",
        "print(credit.info())"
      ],
      "execution_count": 249,
      "outputs": [
        {
          "output_type": "stream",
          "text": [
            "[[5.00000000e-01 3.33333333e-01 1.00000000e-01 ... 9.33140146e-04\n",
            "  1.47557602e-03 0.00000000e+00]\n",
            " [1.00000000e+00 0.00000000e+00 2.00000000e-01 ... 0.00000000e+00\n",
            "  0.00000000e+00 8.33333333e-02]\n",
            " [0.00000000e+00 6.66666667e-01 1.00000000e-01 ... 4.92358297e-03\n",
            "  5.55920401e-03 1.66666667e-01]\n",
            " ...\n",
            " [5.00000000e-01 3.33333333e-01 2.00000000e-01 ... 3.39493163e-03\n",
            "  2.26986500e-02 0.00000000e+00]\n",
            " [1.00000000e+00 0.00000000e+00 4.00000000e-01 ... 2.87088178e-03\n",
            "  2.26986500e-03 1.25000000e-01]\n",
            " [1.00000000e+00 0.00000000e+00 2.00000000e-01 ... 1.90667149e-03\n",
            "  1.73834647e-02 3.75000000e-01]]\n",
            "(24000, 21)\n",
            "<class 'pandas.core.frame.DataFrame'>\n",
            "Int64Index: 24000 entries, 11559 to 20658\n",
            "Data columns (total 21 columns):\n",
            "EDUCATION_STATUS    24000 non-null int64\n",
            "AGE                 24000 non-null int64\n",
            "PAY_JULY            24000 non-null int64\n",
            "PAY_AUG             24000 non-null int64\n",
            "PAY_SEP             24000 non-null int64\n",
            "PAY_OCT             24000 non-null int64\n",
            "PAY_NOV             24000 non-null int64\n",
            "PAY_DEC             24000 non-null int64\n",
            "DUE_AMT_JULY        24000 non-null int64\n",
            "DUE_AMT_AUG         24000 non-null int64\n",
            "DUE_AMT_SEP         24000 non-null int64\n",
            "DUE_AMT_OCT         24000 non-null int64\n",
            "DUE_AMT_NOV         24000 non-null int64\n",
            "DUE_AMT_DEC         24000 non-null int64\n",
            "PAID_AMT_JULY       24000 non-null int64\n",
            "PAID_AMT_AUG        24000 non-null int64\n",
            "PAID_AMT_SEP        24000 non-null int64\n",
            "PAID_AMT_OCT        24000 non-null int64\n",
            "PAID_AMT_NOV        24000 non-null int64\n",
            "PAID_AMT_DEC        24000 non-null int64\n",
            "limit               24000 non-null object\n",
            "dtypes: int64(20), object(1)\n",
            "memory usage: 4.7+ MB\n",
            "None\n"
          ],
          "name": "stdout"
        }
      ]
    },
    {
      "cell_type": "code",
      "metadata": {
        "id": "-yuuwrT4DPrF",
        "colab_type": "code",
        "outputId": "d9085a30-39d9-4204-96f4-93f93ec70b30",
        "colab": {
          "base_uri": "https://localhost:8080/",
          "height": 248
        }
      },
      "source": [
        "# %matplotlib inline\n",
        "!pip install seaborn\n",
        "import matplotlib.pyplot as plt\n",
        "import seaborn as sns"
      ],
      "execution_count": 250,
      "outputs": [
        {
          "output_type": "stream",
          "text": [
            "Requirement already satisfied: seaborn in /usr/local/lib/python3.6/dist-packages (0.10.0)\n",
            "Requirement already satisfied: pandas>=0.22.0 in /usr/local/lib/python3.6/dist-packages (from seaborn) (0.25.3)\n",
            "Requirement already satisfied: numpy>=1.13.3 in /tensorflow-2.1.0/python3.6 (from seaborn) (1.18.1)\n",
            "Requirement already satisfied: scipy>=1.0.1 in /tensorflow-2.1.0/python3.6 (from seaborn) (1.4.1)\n",
            "Requirement already satisfied: matplotlib>=2.1.2 in /usr/local/lib/python3.6/dist-packages (from seaborn) (3.1.3)\n",
            "Requirement already satisfied: pytz>=2017.2 in /usr/local/lib/python3.6/dist-packages (from pandas>=0.22.0->seaborn) (2018.9)\n",
            "Requirement already satisfied: python-dateutil>=2.6.1 in /usr/local/lib/python3.6/dist-packages (from pandas>=0.22.0->seaborn) (2.6.1)\n",
            "Requirement already satisfied: kiwisolver>=1.0.1 in /usr/local/lib/python3.6/dist-packages (from matplotlib>=2.1.2->seaborn) (1.1.0)\n",
            "Requirement already satisfied: cycler>=0.10 in /usr/local/lib/python3.6/dist-packages (from matplotlib>=2.1.2->seaborn) (0.10.0)\n",
            "Requirement already satisfied: pyparsing!=2.0.4,!=2.1.2,!=2.1.6,>=2.0.1 in /usr/local/lib/python3.6/dist-packages (from matplotlib>=2.1.2->seaborn) (2.4.6)\n",
            "Requirement already satisfied: six>=1.5 in /tensorflow-2.1.0/python3.6 (from python-dateutil>=2.6.1->pandas>=0.22.0->seaborn) (1.14.0)\n",
            "Requirement already satisfied: setuptools in /tensorflow-2.1.0/python3.6 (from kiwisolver>=1.0.1->matplotlib>=2.1.2->seaborn) (45.2.0)\n"
          ],
          "name": "stdout"
        }
      ]
    },
    {
      "cell_type": "code",
      "metadata": {
        "id": "i5MyRXO_DPrH",
        "colab_type": "code",
        "colab": {}
      },
      "source": [
        "import numpy as np"
      ],
      "execution_count": 0,
      "outputs": []
    },
    {
      "cell_type": "markdown",
      "metadata": {
        "id": "yUrXwrOIDPrJ",
        "colab_type": "text"
      },
      "source": [
        "<h3>Correlation Analysis"
      ]
    },
    {
      "cell_type": "code",
      "metadata": {
        "scrolled": false,
        "id": "jnOApY7pDPrK",
        "colab_type": "code",
        "outputId": "07823025-b48b-4854-c643-d9f8329ac6e5",
        "colab": {
          "base_uri": "https://localhost:8080/",
          "height": 1000
        }
      },
      "source": [
        "plt.figure(figsize=(20,20))\n",
        "plt.rcParams[\"axes.labelsize\"] = 20\n",
        "sns.set(font_scale=1)\n",
        "sns.heatmap(credit.corr(), annot = True ,linewidths=.1)\n",
        "plt.show()"
      ],
      "execution_count": 252,
      "outputs": [
        {
          "output_type": "display_data",
          "data": {
            "image/png": "[encoded data removed]",
            "text/plain": [
              "<Figure size 1440x1440 with 2 Axes>"
            ]
          },
          "metadata": {
            "tags": []
          }
        }
      ]
    },
    {
      "cell_type": "code",
      "metadata": {
        "id": "Yw_uqVPdDPrM",
        "colab_type": "code",
        "colab": {}
      },
      "source": [
        "def find_correlation(data, threshold=0.9):\n",
        "    corr_mat = data.corr()\n",
        "    corr_mat.loc[:, :] = np.tril(corr_mat, k=-1)\n",
        "    already_in = set()\n",
        "    result = []\n",
        "    for col in corr_mat:\n",
        "        perfect_corr = corr_mat[col][abs(corr_mat[col])> threshold].index.tolist()\n",
        "        if perfect_corr and col not in already_in:\n",
        "            already_in.update(set(perfect_corr))\n",
        "            perfect_corr.append(col)\n",
        "            result.append(perfect_corr)\n",
        "    select_nested = [f[1:] for f in result]\n",
        "    select_flat = [i for j in select_nested for i in j]\n",
        "    return select_flat"
      ],
      "execution_count": 0,
      "outputs": []
    },
    {
      "cell_type": "code",
      "metadata": {
        "id": "bhIVvw7eu_j5",
        "colab_type": "code",
        "colab": {}
      },
      "source": [
        "months_data = credit[[\"PAY_JULY\",\t\"DUE_AMT_JULY\",\t\"PAID_AMT_JULY\",  \"PAY_AUG\",\t\"DUE_AMT_AUG\",\t\"PAID_AMT_AUG\",\t\"PAY_SEP\", \"DUE_AMT_SEP\",\t\"PAID_AMT_SEP\",\t \"PAY_OCT\",\t\"DUE_AMT_OCT\",\t\"PAID_AMT_OCT\", \t\"PAY_NOV\",\t\"DUE_AMT_NOV\",\t\"PAID_AMT_NOV\", \t\"PAY_DEC\",\t\"DUE_AMT_DEC\",\t\"PAID_AMT_DEC\", \t]]"
      ],
      "execution_count": 0,
      "outputs": []
    },
    {
      "cell_type": "code",
      "metadata": {
        "id": "nyL7xi5jwHZO",
        "colab_type": "code",
        "outputId": "679c26e5-a090-4ba2-84b4-1980073ce37d",
        "colab": {
          "base_uri": "https://localhost:8080/",
          "height": 87
        }
      },
      "source": [
        "months_data = min_max_scaler.fit_transform(months_data.values)\n",
        "print(months_data[0])\n",
        "#months_data = months_data.reshape(24000,18)\n",
        "print(months_data.shape)"
      ],
      "execution_count": 255,
      "outputs": [
        {
          "output_type": "stream",
          "text": [
            "[0.1        0.14909615 0.0004465  0.1        0.06659063 0.00046316\n",
            " 0.1        0.03609546 0.00087059 0.1        0.16087257 0.00125618\n",
            " 0.1        0.08142178 0.00093314 0.1        0.26127847 0.00147558]\n",
            "(24000, 18)\n"
          ],
          "name": "stdout"
        }
      ]
    },
    {
      "cell_type": "code",
      "metadata": {
        "id": "2P8HKsFCwemu",
        "colab_type": "code",
        "outputId": "1a94d29c-dc2b-4dc7-b3e5-61bc4e5d7e2f",
        "colab": {
          "base_uri": "https://localhost:8080/",
          "height": 70
        }
      },
      "source": [
        "print(months_data[0])"
      ],
      "execution_count": 256,
      "outputs": [
        {
          "output_type": "stream",
          "text": [
            "[0.1        0.14909615 0.0004465  0.1        0.06659063 0.00046316\n",
            " 0.1        0.03609546 0.00087059 0.1        0.16087257 0.00125618\n",
            " 0.1        0.08142178 0.00093314 0.1        0.26127847 0.00147558]\n"
          ],
          "name": "stdout"
        }
      ]
    },
    {
      "cell_type": "code",
      "metadata": {
        "id": "A3oVBRKbxgGF",
        "colab_type": "code",
        "colab": {}
      },
      "source": [
        "credit= credit.drop([\"PAY_JULY\",\t\"DUE_AMT_JULY\",\t\"PAID_AMT_JULY\",  \"PAY_AUG\",\t\"DUE_AMT_AUG\",\t\"PAID_AMT_AUG\",\t\"PAY_SEP\", \"DUE_AMT_SEP\",\t\"PAID_AMT_SEP\",\t \"PAY_OCT\",\t\"DUE_AMT_OCT\",\t\"PAID_AMT_OCT\", \t\"PAY_NOV\",\t\"DUE_AMT_NOV\",\t\"PAID_AMT_NOV\", \t\"PAY_DEC\",\t\"DUE_AMT_DEC\",\t\"PAID_AMT_DEC\", \t],axis=1)"
      ],
      "execution_count": 0,
      "outputs": []
    },
    {
      "cell_type": "code",
      "metadata": {
        "id": "5DdYYVzBxsum",
        "colab_type": "code",
        "colab": {}
      },
      "source": [
        "raw_data = min_max_scaler.fit_transform(np.asarray(credit.values,dtype=np.float64))"
      ],
      "execution_count": 0,
      "outputs": []
    },
    {
      "cell_type": "code",
      "metadata": {
        "id": "fiVWp5WbL-Cp",
        "colab_type": "code",
        "outputId": "820a2299-77e7-48cd-958c-f472b0083445",
        "colab": {
          "base_uri": "https://localhost:8080/",
          "height": 52
        }
      },
      "source": [
        "import numpy as np\n",
        "print(np.count_nonzero(output == 1))\n",
        "print(np.count_nonzero(output == 0))"
      ],
      "execution_count": 259,
      "outputs": [
        {
          "output_type": "stream",
          "text": [
            "5330\n",
            "18670\n"
          ],
          "name": "stdout"
        }
      ]
    },
    {
      "cell_type": "code",
      "metadata": {
        "id": "gGKKkipwwoh2",
        "colab_type": "code",
        "colab": {}
      },
      "source": [
        "%tensorflow_version 2.x\n",
        "import tensorflow as tf\n",
        "from tensorflow import keras\n",
        "import tensorflow_addons as tfa\n",
        "import sklearn"
      ],
      "execution_count": 0,
      "outputs": []
    },
    {
      "cell_type": "code",
      "metadata": {
        "id": "AZGhS6J1wwri",
        "colab_type": "code",
        "colab": {}
      },
      "source": [
        "month_input = keras.Input(shape=(18),name='month')\n",
        "gender_input = keras.Input(shape=2,name='gender')\n",
        "marital_input = keras.Input(shape=2,name='marital')\n",
        "int_data_input = keras.Input(shape=3,name='intdata')"
      ],
      "execution_count": 0,
      "outputs": []
    },
    {
      "cell_type": "code",
      "metadata": {
        "id": "NhjZmCMH04I7",
        "colab_type": "code",
        "colab": {}
      },
      "source": [
        "ker_init = keras.initializers.he_normal()\n",
        "bias_init = keras.initializers.he_normal()"
      ],
      "execution_count": 0,
      "outputs": []
    },
    {
      "cell_type": "code",
      "metadata": {
        "id": "5el9yJp1yq-_",
        "colab_type": "code",
        "outputId": "06c13aac-9b55-46c1-a7c7-d7c4fc4d96a0",
        "colab": {
          "base_uri": "https://localhost:8080/",
          "height": 553
        }
      },
      "source": [
        "from tensorflow.keras import regularizers\n",
        "month_processed = keras.layers.BatchNormalization(epsilon=0.1)(keras.layers.Dense(4*4*36,activation='selu')(month_input))\n",
        "gender_processed = keras.layers.BatchNormalization(epsilon=0.1)(keras.layers.Dense(4*4*8,activation='selu')(gender_input))\n",
        "marital_processed = keras.layers.BatchNormalization(epsilon=0.1)(keras.layers.Dense(4*4*8,activation='selu')(marital_input))\n",
        "int_data_processed = keras.layers.BatchNormalization(epsilon=0.1)(keras.layers.Dense(4*4*12,activation='selu')(int_data_input))\n",
        "x = keras.layers.concatenate([month_processed,gender_processed,marital_processed,int_data_processed])\n",
        "inter_model = keras.models.Sequential([\n",
        "                                       keras.layers.BatchNormalization(epsilon=0.1),\n",
        "                                       keras.layers.Dense(512,activation='selu'),\n",
        "                                       keras.layers.Dropout(0.5),\n",
        "                                       keras.layers.BatchNormalization(epsilon=0.1),\n",
        "                                       keras.layers.Dense(256,activation='selu'),\n",
        "                                       keras.layers.Dropout(0.5),\n",
        "                                       keras.layers.Dense(1,activation='sigmoid'),\n",
        "                                       #keras.layers.Dense(1,activation='sigmoid',kernel_initializer=ker_init,bias_initializer=bias_init)\n",
        "])\n",
        "Default_prediction = inter_model(x)\n",
        "\n",
        "model = keras.models.Model(inputs=[gender_input,month_input,marital_input,int_data_input],outputs=[Default_prediction])\n",
        "\n",
        "keras.utils.plot_model(model, 'multi_input_and_output_model.png', show_shapes=True)\n"
      ],
      "execution_count": 270,
      "outputs": [
        {
          "output_type": "execute_result",
          "data": {
            "image/png": "[encoded data removed]",
            "text/plain": [
              "<IPython.core.display.Image object>"
            ]
          },
          "metadata": {
            "tags": []
          },
          "execution_count": 270
        }
      ]
    },
    {
      "cell_type": "code",
      "metadata": {
        "id": "HcTKFBP5AUKJ",
        "colab_type": "code",
        "colab": {}
      },
      "source": [
        "from keras import backend as K\n",
        "\n",
        "def recall_m(y_true, y_pred):\n",
        "        true_positives = K.sum(K.round(K.clip(y_true * y_pred, 0, 1)))\n",
        "        possible_positives = K.sum(K.round(K.clip(y_true, 0, 1)))\n",
        "        recall = true_positives / (possible_positives + K.epsilon())\n",
        "        return recall\n",
        "\n",
        "def precision_m(y_true, y_pred):\n",
        "        true_positives = K.sum(K.round(K.clip(y_true * y_pred, 0, 1)))\n",
        "        predicted_positives = K.sum(K.round(K.clip(y_pred, 0, 1)))\n",
        "        precision = true_positives / (predicted_positives + K.epsilon())\n",
        "        return precision\n",
        "\n",
        "def f1_m(y_true, y_pred):\n",
        "        precision = precision_m(y_true, y_pred)\n",
        "        recall = recall_m(y_true, y_pred)\n",
        "        return 2*((precision*recall)/(precision+recall+K.epsilon()))"
      ],
      "execution_count": 0,
      "outputs": []
    },
    {
      "cell_type": "code",
      "metadata": {
        "id": "qh-UWNm52I4k",
        "colab_type": "code",
        "colab": {}
      },
      "source": [
        "optimizer = keras.optimizers.Nadam(1e-3,clipvalue=0.75)\n",
        "loss=tf.keras.losses.binary_crossentropy\n",
        "\n",
        "model.compile(optimizer=optimizer,loss=loss,metrics=['acc',f1_m])"
      ],
      "execution_count": 0,
      "outputs": []
    },
    {
      "cell_type": "code",
      "metadata": {
        "id": "ZTffe2mjN1Mi",
        "colab_type": "code",
        "outputId": "87186938-b0bb-4861-b515-57f1b6f1ee3f",
        "colab": {
          "base_uri": "https://localhost:8080/",
          "height": 193
        }
      },
      "source": [
        "y_true = model.predict({'month':months_data[:100],'gender':Gender_1hot_data[:100],'marital':Marital_status_1hot_data[:100],'intdata':raw_data[:100]})\n",
        "print(y_true[:10])"
      ],
      "execution_count": 272,
      "outputs": [
        {
          "output_type": "stream",
          "text": [
            "[[0.52761847]\n",
            " [0.5624492 ]\n",
            " [0.5975016 ]\n",
            " [0.5110767 ]\n",
            " [0.5534351 ]\n",
            " [0.5819878 ]\n",
            " [0.5602398 ]\n",
            " [0.49047995]\n",
            " [0.5941875 ]\n",
            " [0.58621705]]\n"
          ],
          "name": "stdout"
        }
      ]
    },
    {
      "cell_type": "code",
      "metadata": {
        "id": "JecmvyLP5_dW",
        "colab_type": "code",
        "colab": {}
      },
      "source": [
        "epochs = 200"
      ],
      "execution_count": 0,
      "outputs": []
    },
    {
      "cell_type": "code",
      "metadata": {
        "id": "QtKzjEq34ra7",
        "colab_type": "code",
        "colab": {
          "base_uri": "https://localhost:8080/",
          "height": 34
        },
        "outputId": "b847c97d-6845-4326-df6a-0a9de3ef6c56"
      },
      "source": [
        "model_checkpoint = keras.callbacks.ModelCheckpoint('', monitor='val_loss', verbose=0, save_best_only=True, save_weights_only=False, mode='auto', period=1)\n",
        "early_stoping = keras.callbacks.EarlyStopping(monitor='val_loss', min_delta=0, patience=epochs//6, verbose=0, mode='auto', baseline=None, restore_best_weights=True)\n",
        "reducelr = keras.callbacks.ReduceLROnPlateau(monitor='val_loss', factor=0.1, patience=epochs//20, verbose=0, mode='auto', min_delta=0.00001, cooldown=0, min_lr=0)\n",
        "nan_terminate = keras.callbacks.TerminateOnNaN()"
      ],
      "execution_count": 268,
      "outputs": [
        {
          "output_type": "stream",
          "text": [
            "WARNING:tensorflow:`period` argument is deprecated. Please use `save_freq` to specify the frequency in number of samples seen.\n"
          ],
          "name": "stdout"
        }
      ]
    },
    {
      "cell_type": "code",
      "metadata": {
        "id": "RAvzWZ9Z2tXV",
        "colab_type": "code",
        "outputId": "0b53f7e6-fd33-4bce-eb5e-c1e2059ff029",
        "colab": {
          "base_uri": "https://localhost:8080/",
          "height": 1000
        }
      },
      "source": [
        "batch_size = 4800\n",
        "model.fit({'month':months_data,'gender':Gender_1hot_data,'marital':Marital_status_1hot_data,'intdata':raw_data},\n",
        "          y=output,\n",
        "          callbacks=[reducelr,early_stoping],\n",
        "          epochs=epochs,\n",
        "          shuffle=True,\n",
        "          #class_weight={0:float(np.count_nonzero(output == 1))/(float(np.count_nonzero(output == 1))+float(np.count_nonzero(output == 0))),1:float(np.count_nonzero(output == 0))/(float(np.count_nonzero(output == 1))+float(np.count_nonzero(output == 0)))},\n",
        "          batch_size=batch_size,\n",
        "          validation_split=0.2)"
      ],
      "execution_count": 273,
      "outputs": [
        {
          "output_type": "stream",
          "text": [
            "Train on 19200 samples, validate on 4800 samples\n",
            "Epoch 1/200\n",
            "19200/19200 [==============================] - 5s 278us/sample - loss: 1.2638 - acc: 0.5733 - f1_m: 0.3531 - val_loss: 1.0903 - val_acc: 0.2656 - val_f1_m: 0.3675\n",
            "Epoch 2/200\n",
            "19200/19200 [==============================] - 3s 133us/sample - loss: 0.8979 - acc: 0.6381 - f1_m: 0.3705 - val_loss: 0.7423 - val_acc: 0.3848 - val_f1_m: 0.3675\n",
            "Epoch 3/200\n",
            "19200/19200 [==============================] - 3s 133us/sample - loss: 0.7448 - acc: 0.6885 - f1_m: 0.3519 - val_loss: 0.7314 - val_acc: 0.4150 - val_f1_m: 0.3906\n",
            "Epoch 4/200\n",
            "19200/19200 [==============================] - 3s 136us/sample - loss: 0.6702 - acc: 0.7196 - f1_m: 0.3554 - val_loss: 0.6986 - val_acc: 0.4542 - val_f1_m: 0.4018\n",
            "Epoch 5/200\n",
            "19200/19200 [==============================] - 3s 132us/sample - loss: 0.6547 - acc: 0.7318 - f1_m: 0.3609 - val_loss: 0.6888 - val_acc: 0.4977 - val_f1_m: 0.4078\n",
            "Epoch 6/200\n",
            "19200/19200 [==============================] - 3s 130us/sample - loss: 0.6350 - acc: 0.7371 - f1_m: 0.3710 - val_loss: 0.7034 - val_acc: 0.4546 - val_f1_m: 0.4063\n",
            "Epoch 7/200\n",
            "19200/19200 [==============================] - 3s 131us/sample - loss: 0.6190 - acc: 0.7395 - f1_m: 0.3738 - val_loss: 0.6486 - val_acc: 0.6844 - val_f1_m: 0.4694\n",
            "Epoch 8/200\n",
            "19200/19200 [==============================] - 3s 133us/sample - loss: 0.6115 - acc: 0.7431 - f1_m: 0.3796 - val_loss: 0.6199 - val_acc: 0.7871 - val_f1_m: 0.5015\n",
            "Epoch 9/200\n",
            "19200/19200 [==============================] - 3s 134us/sample - loss: 0.6014 - acc: 0.7468 - f1_m: 0.3866 - val_loss: 0.6237 - val_acc: 0.7033 - val_f1_m: 0.4590\n",
            "Epoch 10/200\n",
            "19200/19200 [==============================] - 3s 132us/sample - loss: 0.6148 - acc: 0.7446 - f1_m: 0.3836 - val_loss: 0.6238 - val_acc: 0.7019 - val_f1_m: 0.4586\n",
            "Epoch 11/200\n",
            "19200/19200 [==============================] - 3s 133us/sample - loss: 0.5958 - acc: 0.7557 - f1_m: 0.4001 - val_loss: 0.5749 - val_acc: 0.8006 - val_f1_m: 0.4037\n",
            "Epoch 12/200\n",
            "19200/19200 [==============================] - 3s 134us/sample - loss: 0.5931 - acc: 0.7515 - f1_m: 0.3893 - val_loss: 0.5576 - val_acc: 0.7902 - val_f1_m: 0.2502\n",
            "Epoch 13/200\n",
            "19200/19200 [==============================] - 3s 133us/sample - loss: 0.6370 - acc: 0.7311 - f1_m: 0.3778 - val_loss: 0.5750 - val_acc: 0.7792 - val_f1_m: 0.3196\n",
            "Epoch 14/200\n",
            "19200/19200 [==============================] - 3s 133us/sample - loss: 0.6217 - acc: 0.7426 - f1_m: 0.3815 - val_loss: 0.5342 - val_acc: 0.7877 - val_f1_m: 0.1599\n",
            "Epoch 15/200\n",
            "19200/19200 [==============================] - 3s 133us/sample - loss: 0.5622 - acc: 0.7663 - f1_m: 0.3973 - val_loss: 0.5322 - val_acc: 0.7950 - val_f1_m: 0.2384\n",
            "Epoch 16/200\n",
            "19200/19200 [==============================] - 3s 133us/sample - loss: 0.5563 - acc: 0.7699 - f1_m: 0.4084 - val_loss: 0.5120 - val_acc: 0.7794 - val_f1_m: 0.0381\n",
            "Epoch 17/200\n",
            "19200/19200 [==============================] - 3s 132us/sample - loss: 0.5677 - acc: 0.7648 - f1_m: 0.4044 - val_loss: 0.5111 - val_acc: 0.7771 - val_f1_m: 0.0129\n",
            "Epoch 18/200\n",
            "19200/19200 [==============================] - 3s 132us/sample - loss: 0.5675 - acc: 0.7619 - f1_m: 0.3946 - val_loss: 0.5031 - val_acc: 0.7794 - val_f1_m: 0.0329\n",
            "Epoch 19/200\n",
            "19200/19200 [==============================] - 3s 130us/sample - loss: 0.5494 - acc: 0.7683 - f1_m: 0.3904 - val_loss: 0.5070 - val_acc: 0.7933 - val_f1_m: 0.2519\n",
            "Epoch 20/200\n",
            "19200/19200 [==============================] - 3s 135us/sample - loss: 0.5464 - acc: 0.7734 - f1_m: 0.4037 - val_loss: 0.4964 - val_acc: 0.7835 - val_f1_m: 0.1247\n",
            "Epoch 21/200\n",
            "19200/19200 [==============================] - 3s 133us/sample - loss: 0.5423 - acc: 0.7781 - f1_m: 0.4172 - val_loss: 0.4994 - val_acc: 0.7867 - val_f1_m: 0.1808\n",
            "Epoch 22/200\n",
            "19200/19200 [==============================] - 3s 133us/sample - loss: 0.5336 - acc: 0.7760 - f1_m: 0.4092 - val_loss: 0.4870 - val_acc: 0.7823 - val_f1_m: 0.0857\n",
            "Epoch 23/200\n",
            "19200/19200 [==============================] - 3s 133us/sample - loss: 0.5289 - acc: 0.7805 - f1_m: 0.4201 - val_loss: 0.4861 - val_acc: 0.7827 - val_f1_m: 0.1108\n",
            "Epoch 24/200\n",
            "19200/19200 [==============================] - 3s 134us/sample - loss: 0.5246 - acc: 0.7823 - f1_m: 0.4226 - val_loss: 0.4854 - val_acc: 0.7800 - val_f1_m: 0.0486\n",
            "Epoch 25/200\n",
            "19200/19200 [==============================] - 3s 136us/sample - loss: 0.5172 - acc: 0.7842 - f1_m: 0.4230 - val_loss: 0.4784 - val_acc: 0.7837 - val_f1_m: 0.1233\n",
            "Epoch 26/200\n",
            "19200/19200 [==============================] - 3s 132us/sample - loss: 0.5152 - acc: 0.7864 - f1_m: 0.4242 - val_loss: 0.4840 - val_acc: 0.7794 - val_f1_m: 0.0451\n",
            "Epoch 27/200\n",
            "19200/19200 [==============================] - 3s 136us/sample - loss: 0.5199 - acc: 0.7822 - f1_m: 0.4156 - val_loss: 0.4783 - val_acc: 0.7821 - val_f1_m: 0.0904\n",
            "Epoch 28/200\n",
            "19200/19200 [==============================] - 3s 139us/sample - loss: 0.5123 - acc: 0.7873 - f1_m: 0.4268 - val_loss: 0.4830 - val_acc: 0.7785 - val_f1_m: 0.0380\n",
            "Epoch 29/200\n",
            "19200/19200 [==============================] - 3s 136us/sample - loss: 0.5088 - acc: 0.7880 - f1_m: 0.4285 - val_loss: 0.4897 - val_acc: 0.7783 - val_f1_m: 0.0239\n",
            "Epoch 30/200\n",
            "19200/19200 [==============================] - 3s 135us/sample - loss: 0.5196 - acc: 0.7826 - f1_m: 0.4158 - val_loss: 0.4956 - val_acc: 0.7785 - val_f1_m: 0.0185\n",
            "Epoch 31/200\n",
            "19200/19200 [==============================] - 3s 135us/sample - loss: 0.5057 - acc: 0.7872 - f1_m: 0.4123 - val_loss: 0.4731 - val_acc: 0.7829 - val_f1_m: 0.1063\n",
            "Epoch 32/200\n",
            "19200/19200 [==============================] - 3s 134us/sample - loss: 0.4977 - acc: 0.7958 - f1_m: 0.4351 - val_loss: 0.4714 - val_acc: 0.7817 - val_f1_m: 0.0903\n",
            "Epoch 33/200\n",
            "19200/19200 [==============================] - 3s 132us/sample - loss: 0.4981 - acc: 0.7956 - f1_m: 0.4330 - val_loss: 0.4734 - val_acc: 0.7808 - val_f1_m: 0.0772\n",
            "Epoch 34/200\n",
            "19200/19200 [==============================] - 3s 133us/sample - loss: 0.5000 - acc: 0.7951 - f1_m: 0.4334 - val_loss: 0.4786 - val_acc: 0.7821 - val_f1_m: 0.0727\n",
            "Epoch 35/200\n",
            "19200/19200 [==============================] - 3s 133us/sample - loss: 0.4932 - acc: 0.7937 - f1_m: 0.4326 - val_loss: 0.4759 - val_acc: 0.7821 - val_f1_m: 0.0743\n",
            "Epoch 36/200\n",
            "19200/19200 [==============================] - 3s 135us/sample - loss: 0.4936 - acc: 0.7968 - f1_m: 0.4383 - val_loss: 0.4784 - val_acc: 0.7800 - val_f1_m: 0.0555\n",
            "Epoch 37/200\n",
            "19200/19200 [==============================] - 3s 134us/sample - loss: 0.4996 - acc: 0.7955 - f1_m: 0.4396 - val_loss: 0.5007 - val_acc: 0.7788 - val_f1_m: 0.0221\n",
            "Epoch 38/200\n",
            "19200/19200 [==============================] - 3s 133us/sample - loss: 0.5005 - acc: 0.7929 - f1_m: 0.4286 - val_loss: 0.4808 - val_acc: 0.7798 - val_f1_m: 0.0503\n",
            "Epoch 39/200\n",
            "19200/19200 [==============================] - 3s 132us/sample - loss: 0.4853 - acc: 0.7974 - f1_m: 0.4300 - val_loss: 0.4733 - val_acc: 0.7821 - val_f1_m: 0.0841\n",
            "Epoch 40/200\n",
            "19200/19200 [==============================] - 3s 135us/sample - loss: 0.4875 - acc: 0.7974 - f1_m: 0.4361 - val_loss: 0.4715 - val_acc: 0.7819 - val_f1_m: 0.0904\n",
            "Epoch 41/200\n",
            "19200/19200 [==============================] - 3s 132us/sample - loss: 0.4793 - acc: 0.8011 - f1_m: 0.4408 - val_loss: 0.4684 - val_acc: 0.7844 - val_f1_m: 0.1251\n",
            "Epoch 42/200\n",
            "19200/19200 [==============================] - 3s 132us/sample - loss: 0.4845 - acc: 0.8005 - f1_m: 0.4378 - val_loss: 0.4639 - val_acc: 0.7908 - val_f1_m: 0.2348\n",
            "Epoch 43/200\n",
            "19200/19200 [==============================] - 3s 132us/sample - loss: 0.4868 - acc: 0.7978 - f1_m: 0.4317 - val_loss: 0.4634 - val_acc: 0.7887 - val_f1_m: 0.1914\n",
            "Epoch 44/200\n",
            "19200/19200 [==============================] - 3s 133us/sample - loss: 0.4771 - acc: 0.8039 - f1_m: 0.4469 - val_loss: 0.4675 - val_acc: 0.7840 - val_f1_m: 0.1159\n",
            "Epoch 45/200\n",
            "19200/19200 [==============================] - 3s 134us/sample - loss: 0.4756 - acc: 0.8039 - f1_m: 0.4471 - val_loss: 0.4794 - val_acc: 0.7810 - val_f1_m: 0.0724\n",
            "Epoch 46/200\n",
            "19200/19200 [==============================] - 3s 132us/sample - loss: 0.4771 - acc: 0.8024 - f1_m: 0.4411 - val_loss: 0.4793 - val_acc: 0.7808 - val_f1_m: 0.0641\n",
            "Epoch 47/200\n",
            "19200/19200 [==============================] - 3s 133us/sample - loss: 0.4770 - acc: 0.8022 - f1_m: 0.4362 - val_loss: 0.4672 - val_acc: 0.7860 - val_f1_m: 0.1491\n",
            "Epoch 48/200\n",
            "19200/19200 [==============================] - 3s 133us/sample - loss: 0.4721 - acc: 0.8060 - f1_m: 0.4491 - val_loss: 0.4600 - val_acc: 0.7902 - val_f1_m: 0.2077\n",
            "Epoch 49/200\n",
            "19200/19200 [==============================] - 3s 133us/sample - loss: 0.4739 - acc: 0.8035 - f1_m: 0.4498 - val_loss: 0.4722 - val_acc: 0.7821 - val_f1_m: 0.0889\n",
            "Epoch 50/200\n",
            "19200/19200 [==============================] - 3s 132us/sample - loss: 0.4774 - acc: 0.8028 - f1_m: 0.4375 - val_loss: 0.4637 - val_acc: 0.7862 - val_f1_m: 0.1535\n",
            "Epoch 51/200\n",
            "19200/19200 [==============================] - 3s 133us/sample - loss: 0.4708 - acc: 0.8027 - f1_m: 0.4424 - val_loss: 0.4698 - val_acc: 0.7840 - val_f1_m: 0.1144\n",
            "Epoch 52/200\n",
            "19200/19200 [==============================] - 3s 132us/sample - loss: 0.4680 - acc: 0.8062 - f1_m: 0.4550 - val_loss: 0.4731 - val_acc: 0.7827 - val_f1_m: 0.0843\n",
            "Epoch 53/200\n",
            "19200/19200 [==============================] - 3s 134us/sample - loss: 0.4689 - acc: 0.8057 - f1_m: 0.4437 - val_loss: 0.4676 - val_acc: 0.7831 - val_f1_m: 0.1018\n",
            "Epoch 54/200\n",
            "19200/19200 [==============================] - 3s 134us/sample - loss: 0.4659 - acc: 0.8083 - f1_m: 0.4535 - val_loss: 0.4638 - val_acc: 0.7858 - val_f1_m: 0.1532\n",
            "Epoch 55/200\n",
            "19200/19200 [==============================] - 3s 133us/sample - loss: 0.4635 - acc: 0.8093 - f1_m: 0.4530 - val_loss: 0.4593 - val_acc: 0.7915 - val_f1_m: 0.2198\n",
            "Epoch 56/200\n",
            "19200/19200 [==============================] - 3s 134us/sample - loss: 0.4637 - acc: 0.8069 - f1_m: 0.4489 - val_loss: 0.4615 - val_acc: 0.7881 - val_f1_m: 0.1778\n",
            "Epoch 57/200\n",
            "19200/19200 [==============================] - 3s 139us/sample - loss: 0.4633 - acc: 0.8080 - f1_m: 0.4515 - val_loss: 0.4569 - val_acc: 0.7921 - val_f1_m: 0.2323\n",
            "Epoch 58/200\n",
            "19200/19200 [==============================] - 3s 138us/sample - loss: 0.4601 - acc: 0.8104 - f1_m: 0.4604 - val_loss: 0.4621 - val_acc: 0.7875 - val_f1_m: 0.1694\n",
            "Epoch 59/200\n",
            "19200/19200 [==============================] - 3s 133us/sample - loss: 0.4617 - acc: 0.8098 - f1_m: 0.4516 - val_loss: 0.4493 - val_acc: 0.8073 - val_f1_m: 0.3926\n",
            "Epoch 60/200\n",
            "19200/19200 [==============================] - 3s 133us/sample - loss: 0.4614 - acc: 0.8093 - f1_m: 0.4576 - val_loss: 0.4506 - val_acc: 0.8060 - val_f1_m: 0.3830\n",
            "Epoch 61/200\n",
            "19200/19200 [==============================] - 3s 134us/sample - loss: 0.4635 - acc: 0.8081 - f1_m: 0.4489 - val_loss: 0.4494 - val_acc: 0.8048 - val_f1_m: 0.3665\n",
            "Epoch 62/200\n",
            "19200/19200 [==============================] - 3s 131us/sample - loss: 0.4613 - acc: 0.8098 - f1_m: 0.4596 - val_loss: 0.4492 - val_acc: 0.8008 - val_f1_m: 0.3268\n",
            "Epoch 63/200\n",
            "19200/19200 [==============================] - 3s 132us/sample - loss: 0.4549 - acc: 0.8140 - f1_m: 0.4734 - val_loss: 0.4501 - val_acc: 0.8052 - val_f1_m: 0.3538\n",
            "Epoch 64/200\n",
            "19200/19200 [==============================] - 3s 133us/sample - loss: 0.4617 - acc: 0.8097 - f1_m: 0.4514 - val_loss: 0.4469 - val_acc: 0.8090 - val_f1_m: 0.3907\n",
            "Epoch 65/200\n",
            "19200/19200 [==============================] - 3s 133us/sample - loss: 0.4539 - acc: 0.8133 - f1_m: 0.4659 - val_loss: 0.4493 - val_acc: 0.7994 - val_f1_m: 0.3165\n",
            "Epoch 66/200\n",
            "19200/19200 [==============================] - 3s 132us/sample - loss: 0.4544 - acc: 0.8110 - f1_m: 0.4607 - val_loss: 0.4480 - val_acc: 0.8056 - val_f1_m: 0.3768\n",
            "Epoch 67/200\n",
            "19200/19200 [==============================] - 3s 133us/sample - loss: 0.4577 - acc: 0.8118 - f1_m: 0.4658 - val_loss: 0.4498 - val_acc: 0.7979 - val_f1_m: 0.2804\n",
            "Epoch 68/200\n",
            "19200/19200 [==============================] - 3s 132us/sample - loss: 0.4549 - acc: 0.8120 - f1_m: 0.4619 - val_loss: 0.4490 - val_acc: 0.8008 - val_f1_m: 0.3287\n",
            "Epoch 69/200\n",
            "19200/19200 [==============================] - 3s 133us/sample - loss: 0.4557 - acc: 0.8123 - f1_m: 0.4571 - val_loss: 0.4461 - val_acc: 0.8067 - val_f1_m: 0.3846\n",
            "Epoch 70/200\n",
            "19200/19200 [==============================] - 3s 132us/sample - loss: 0.4532 - acc: 0.8120 - f1_m: 0.4648 - val_loss: 0.4456 - val_acc: 0.8077 - val_f1_m: 0.3843\n",
            "Epoch 71/200\n",
            "19200/19200 [==============================] - 3s 135us/sample - loss: 0.4517 - acc: 0.8127 - f1_m: 0.4614 - val_loss: 0.4455 - val_acc: 0.8079 - val_f1_m: 0.3894\n",
            "Epoch 72/200\n",
            "19200/19200 [==============================] - 3s 132us/sample - loss: 0.4507 - acc: 0.8136 - f1_m: 0.4665 - val_loss: 0.4458 - val_acc: 0.8150 - val_f1_m: 0.4585\n",
            "Epoch 73/200\n",
            "19200/19200 [==============================] - 3s 133us/sample - loss: 0.4529 - acc: 0.8130 - f1_m: 0.4633 - val_loss: 0.4443 - val_acc: 0.8152 - val_f1_m: 0.4614\n",
            "Epoch 74/200\n",
            "19200/19200 [==============================] - 3s 133us/sample - loss: 0.4529 - acc: 0.8133 - f1_m: 0.4688 - val_loss: 0.4519 - val_acc: 0.7990 - val_f1_m: 0.2951\n",
            "Epoch 75/200\n",
            "19200/19200 [==============================] - 3s 132us/sample - loss: 0.4554 - acc: 0.8097 - f1_m: 0.4552 - val_loss: 0.4476 - val_acc: 0.8058 - val_f1_m: 0.3572\n",
            "Epoch 76/200\n",
            "19200/19200 [==============================] - 3s 131us/sample - loss: 0.4505 - acc: 0.8135 - f1_m: 0.4679 - val_loss: 0.4457 - val_acc: 0.8058 - val_f1_m: 0.3581\n",
            "Epoch 77/200\n",
            "19200/19200 [==============================] - 3s 132us/sample - loss: 0.4504 - acc: 0.8139 - f1_m: 0.4637 - val_loss: 0.4449 - val_acc: 0.8104 - val_f1_m: 0.3941\n",
            "Epoch 78/200\n",
            "19200/19200 [==============================] - 3s 132us/sample - loss: 0.4467 - acc: 0.8153 - f1_m: 0.4669 - val_loss: 0.4455 - val_acc: 0.8140 - val_f1_m: 0.4578\n",
            "Epoch 79/200\n",
            "19200/19200 [==============================] - 3s 132us/sample - loss: 0.4482 - acc: 0.8180 - f1_m: 0.4762 - val_loss: 0.4426 - val_acc: 0.8158 - val_f1_m: 0.4597\n",
            "Epoch 80/200\n",
            "19200/19200 [==============================] - 3s 132us/sample - loss: 0.4493 - acc: 0.8130 - f1_m: 0.4643 - val_loss: 0.4440 - val_acc: 0.8148 - val_f1_m: 0.4673\n",
            "Epoch 81/200\n",
            "19200/19200 [==============================] - 3s 133us/sample - loss: 0.4479 - acc: 0.8156 - f1_m: 0.4686 - val_loss: 0.4436 - val_acc: 0.8138 - val_f1_m: 0.4247\n",
            "Epoch 82/200\n",
            "19200/19200 [==============================] - 3s 132us/sample - loss: 0.4483 - acc: 0.8169 - f1_m: 0.4762 - val_loss: 0.4420 - val_acc: 0.8133 - val_f1_m: 0.4386\n",
            "Epoch 83/200\n",
            "19200/19200 [==============================] - 3s 133us/sample - loss: 0.4465 - acc: 0.8155 - f1_m: 0.4644 - val_loss: 0.4427 - val_acc: 0.8138 - val_f1_m: 0.4634\n",
            "Epoch 84/200\n",
            "19200/19200 [==============================] - 3s 133us/sample - loss: 0.4466 - acc: 0.8162 - f1_m: 0.4737 - val_loss: 0.4453 - val_acc: 0.8133 - val_f1_m: 0.4797\n",
            "Epoch 85/200\n",
            "19200/19200 [==============================] - 3s 132us/sample - loss: 0.4449 - acc: 0.8169 - f1_m: 0.4785 - val_loss: 0.4437 - val_acc: 0.8098 - val_f1_m: 0.4091\n",
            "Epoch 86/200\n",
            "19200/19200 [==============================] - 3s 131us/sample - loss: 0.4445 - acc: 0.8167 - f1_m: 0.4738 - val_loss: 0.4408 - val_acc: 0.8154 - val_f1_m: 0.4611\n",
            "Epoch 87/200\n",
            "19200/19200 [==============================] - 3s 132us/sample - loss: 0.4451 - acc: 0.8181 - f1_m: 0.4751 - val_loss: 0.4478 - val_acc: 0.8106 - val_f1_m: 0.4896\n",
            "Epoch 88/200\n",
            "19200/19200 [==============================] - 3s 131us/sample - loss: 0.4465 - acc: 0.8177 - f1_m: 0.4815 - val_loss: 0.4427 - val_acc: 0.8140 - val_f1_m: 0.4656\n",
            "Epoch 89/200\n",
            "19200/19200 [==============================] - 3s 131us/sample - loss: 0.4445 - acc: 0.8170 - f1_m: 0.4713 - val_loss: 0.4422 - val_acc: 0.8142 - val_f1_m: 0.4404\n",
            "Epoch 90/200\n",
            "19200/19200 [==============================] - 3s 131us/sample - loss: 0.4471 - acc: 0.8162 - f1_m: 0.4753 - val_loss: 0.4412 - val_acc: 0.8129 - val_f1_m: 0.4429\n",
            "Epoch 91/200\n",
            "19200/19200 [==============================] - 3s 133us/sample - loss: 0.4428 - acc: 0.8155 - f1_m: 0.4649 - val_loss: 0.4412 - val_acc: 0.8146 - val_f1_m: 0.4677\n",
            "Epoch 92/200\n",
            "19200/19200 [==============================] - 3s 134us/sample - loss: 0.4457 - acc: 0.8166 - f1_m: 0.4751 - val_loss: 0.4433 - val_acc: 0.8146 - val_f1_m: 0.4765\n",
            "Epoch 93/200\n",
            "19200/19200 [==============================] - 3s 132us/sample - loss: 0.4443 - acc: 0.8167 - f1_m: 0.4757 - val_loss: 0.4406 - val_acc: 0.8156 - val_f1_m: 0.4678\n",
            "Epoch 94/200\n",
            "19200/19200 [==============================] - 3s 132us/sample - loss: 0.4441 - acc: 0.8185 - f1_m: 0.4769 - val_loss: 0.4410 - val_acc: 0.8148 - val_f1_m: 0.4475\n",
            "Epoch 95/200\n",
            "19200/19200 [==============================] - 3s 134us/sample - loss: 0.4441 - acc: 0.8160 - f1_m: 0.4715 - val_loss: 0.4520 - val_acc: 0.8081 - val_f1_m: 0.4992\n",
            "Epoch 96/200\n",
            "19200/19200 [==============================] - 3s 131us/sample - loss: 0.4434 - acc: 0.8182 - f1_m: 0.4837 - val_loss: 0.4413 - val_acc: 0.8138 - val_f1_m: 0.4495\n",
            "Epoch 97/200\n",
            "19200/19200 [==============================] - 3s 133us/sample - loss: 0.4410 - acc: 0.8161 - f1_m: 0.4704 - val_loss: 0.4403 - val_acc: 0.8152 - val_f1_m: 0.4647\n",
            "Epoch 98/200\n",
            "19200/19200 [==============================] - 3s 133us/sample - loss: 0.4416 - acc: 0.8173 - f1_m: 0.4706 - val_loss: 0.4465 - val_acc: 0.8108 - val_f1_m: 0.4882\n",
            "Epoch 99/200\n",
            "19200/19200 [==============================] - 3s 132us/sample - loss: 0.4417 - acc: 0.8164 - f1_m: 0.4759 - val_loss: 0.4419 - val_acc: 0.8131 - val_f1_m: 0.4806\n",
            "Epoch 100/200\n",
            "19200/19200 [==============================] - 2s 130us/sample - loss: 0.4402 - acc: 0.8182 - f1_m: 0.4782 - val_loss: 0.4400 - val_acc: 0.8133 - val_f1_m: 0.4686\n",
            "Epoch 101/200\n",
            "19200/19200 [==============================] - 3s 134us/sample - loss: 0.4421 - acc: 0.8184 - f1_m: 0.4750 - val_loss: 0.4418 - val_acc: 0.8119 - val_f1_m: 0.4531\n",
            "Epoch 102/200\n",
            "19200/19200 [==============================] - 3s 133us/sample - loss: 0.4415 - acc: 0.8166 - f1_m: 0.4698 - val_loss: 0.4417 - val_acc: 0.8135 - val_f1_m: 0.4853\n",
            "Epoch 103/200\n",
            "19200/19200 [==============================] - 3s 133us/sample - loss: 0.4395 - acc: 0.8183 - f1_m: 0.4831 - val_loss: 0.4417 - val_acc: 0.8138 - val_f1_m: 0.4575\n",
            "Epoch 104/200\n",
            "19200/19200 [==============================] - 3s 133us/sample - loss: 0.4402 - acc: 0.8178 - f1_m: 0.4797 - val_loss: 0.4408 - val_acc: 0.8135 - val_f1_m: 0.4492\n",
            "Epoch 105/200\n",
            "19200/19200 [==============================] - 3s 133us/sample - loss: 0.4405 - acc: 0.8190 - f1_m: 0.4757 - val_loss: 0.4403 - val_acc: 0.8135 - val_f1_m: 0.4806\n",
            "Epoch 106/200\n",
            "19200/19200 [==============================] - 3s 131us/sample - loss: 0.4401 - acc: 0.8188 - f1_m: 0.4823 - val_loss: 0.4407 - val_acc: 0.8133 - val_f1_m: 0.4809\n",
            "Epoch 107/200\n",
            "19200/19200 [==============================] - 3s 133us/sample - loss: 0.4435 - acc: 0.8158 - f1_m: 0.4660 - val_loss: 0.4506 - val_acc: 0.8073 - val_f1_m: 0.5035\n",
            "Epoch 108/200\n",
            "19200/19200 [==============================] - 3s 133us/sample - loss: 0.4400 - acc: 0.8192 - f1_m: 0.4849 - val_loss: 0.4399 - val_acc: 0.8138 - val_f1_m: 0.4704\n",
            "Epoch 109/200\n",
            "19200/19200 [==============================] - 3s 134us/sample - loss: 0.4360 - acc: 0.8210 - f1_m: 0.4832 - val_loss: 0.4391 - val_acc: 0.8158 - val_f1_m: 0.4681\n",
            "Epoch 110/200\n",
            "19200/19200 [==============================] - 3s 133us/sample - loss: 0.4387 - acc: 0.8196 - f1_m: 0.4816 - val_loss: 0.4398 - val_acc: 0.8133 - val_f1_m: 0.4760\n",
            "Epoch 111/200\n",
            "19200/19200 [==============================] - 3s 132us/sample - loss: 0.4382 - acc: 0.8200 - f1_m: 0.4860 - val_loss: 0.4402 - val_acc: 0.8142 - val_f1_m: 0.4574\n",
            "Epoch 112/200\n",
            "19200/19200 [==============================] - 3s 133us/sample - loss: 0.4405 - acc: 0.8185 - f1_m: 0.4775 - val_loss: 0.4407 - val_acc: 0.8148 - val_f1_m: 0.4635\n",
            "Epoch 113/200\n",
            "19200/19200 [==============================] - 3s 131us/sample - loss: 0.4400 - acc: 0.8198 - f1_m: 0.4826 - val_loss: 0.4424 - val_acc: 0.8117 - val_f1_m: 0.4904\n",
            "Epoch 114/200\n",
            "19200/19200 [==============================] - 3s 133us/sample - loss: 0.4375 - acc: 0.8199 - f1_m: 0.4834 - val_loss: 0.4453 - val_acc: 0.8098 - val_f1_m: 0.4964\n",
            "Epoch 115/200\n",
            "19200/19200 [==============================] - 3s 135us/sample - loss: 0.4394 - acc: 0.8191 - f1_m: 0.4844 - val_loss: 0.4391 - val_acc: 0.8131 - val_f1_m: 0.4770\n",
            "Epoch 116/200\n",
            "19200/19200 [==============================] - 3s 135us/sample - loss: 0.4358 - acc: 0.8208 - f1_m: 0.4839 - val_loss: 0.4394 - val_acc: 0.8148 - val_f1_m: 0.4680\n",
            "Epoch 117/200\n",
            "19200/19200 [==============================] - 3s 134us/sample - loss: 0.4377 - acc: 0.8194 - f1_m: 0.4808 - val_loss: 0.4395 - val_acc: 0.8144 - val_f1_m: 0.4668\n",
            "Epoch 118/200\n",
            "19200/19200 [==============================] - 3s 134us/sample - loss: 0.4387 - acc: 0.8209 - f1_m: 0.4872 - val_loss: 0.4404 - val_acc: 0.8117 - val_f1_m: 0.4781\n",
            "Epoch 119/200\n",
            "19200/19200 [==============================] - 3s 133us/sample - loss: 0.4374 - acc: 0.8198 - f1_m: 0.4812 - val_loss: 0.4430 - val_acc: 0.8100 - val_f1_m: 0.4871\n",
            "Epoch 120/200\n",
            "19200/19200 [==============================] - 3s 132us/sample - loss: 0.4360 - acc: 0.8202 - f1_m: 0.4870 - val_loss: 0.4394 - val_acc: 0.8138 - val_f1_m: 0.4704\n",
            "Epoch 121/200\n",
            "19200/19200 [==============================] - 3s 136us/sample - loss: 0.4381 - acc: 0.8189 - f1_m: 0.4807 - val_loss: 0.4388 - val_acc: 0.8140 - val_f1_m: 0.4681\n",
            "Epoch 122/200\n",
            "19200/19200 [==============================] - 3s 134us/sample - loss: 0.4386 - acc: 0.8183 - f1_m: 0.4772 - val_loss: 0.4452 - val_acc: 0.8075 - val_f1_m: 0.4951\n",
            "Epoch 123/200\n",
            "19200/19200 [==============================] - 3s 131us/sample - loss: 0.4373 - acc: 0.8207 - f1_m: 0.4898 - val_loss: 0.4399 - val_acc: 0.8127 - val_f1_m: 0.4752\n",
            "Epoch 124/200\n",
            "19200/19200 [==============================] - 3s 133us/sample - loss: 0.4368 - acc: 0.8193 - f1_m: 0.4809 - val_loss: 0.4436 - val_acc: 0.8094 - val_f1_m: 0.4914\n",
            "Epoch 125/200\n",
            "19200/19200 [==============================] - 3s 133us/sample - loss: 0.4371 - acc: 0.8188 - f1_m: 0.4802 - val_loss: 0.4391 - val_acc: 0.8158 - val_f1_m: 0.4629\n",
            "Epoch 126/200\n",
            "19200/19200 [==============================] - 3s 133us/sample - loss: 0.4366 - acc: 0.8213 - f1_m: 0.4901 - val_loss: 0.4386 - val_acc: 0.8131 - val_f1_m: 0.4626\n",
            "Epoch 127/200\n",
            "19200/19200 [==============================] - 3s 133us/sample - loss: 0.4367 - acc: 0.8185 - f1_m: 0.4752 - val_loss: 0.4390 - val_acc: 0.8154 - val_f1_m: 0.4643\n",
            "Epoch 128/200\n",
            "19200/19200 [==============================] - 3s 135us/sample - loss: 0.4380 - acc: 0.8205 - f1_m: 0.4839 - val_loss: 0.4388 - val_acc: 0.8146 - val_f1_m: 0.4683\n",
            "Epoch 129/200\n",
            "19200/19200 [==============================] - 3s 133us/sample - loss: 0.4366 - acc: 0.8207 - f1_m: 0.4849 - val_loss: 0.4385 - val_acc: 0.8138 - val_f1_m: 0.4704\n",
            "Epoch 130/200\n",
            "19200/19200 [==============================] - 3s 133us/sample - loss: 0.4372 - acc: 0.8203 - f1_m: 0.4822 - val_loss: 0.4435 - val_acc: 0.8098 - val_f1_m: 0.4936\n",
            "Epoch 131/200\n",
            "19200/19200 [==============================] - 3s 135us/sample - loss: 0.4364 - acc: 0.8190 - f1_m: 0.4799 - val_loss: 0.4510 - val_acc: 0.8044 - val_f1_m: 0.4992\n",
            "Epoch 132/200\n",
            "19200/19200 [==============================] - 3s 134us/sample - loss: 0.4391 - acc: 0.8185 - f1_m: 0.4783 - val_loss: 0.4497 - val_acc: 0.8065 - val_f1_m: 0.5024\n",
            "Epoch 133/200\n",
            "19200/19200 [==============================] - 3s 133us/sample - loss: 0.4368 - acc: 0.8200 - f1_m: 0.4898 - val_loss: 0.4407 - val_acc: 0.8106 - val_f1_m: 0.4700\n",
            "Epoch 134/200\n",
            "19200/19200 [==============================] - 3s 135us/sample - loss: 0.4351 - acc: 0.8198 - f1_m: 0.4823 - val_loss: 0.4407 - val_acc: 0.8117 - val_f1_m: 0.4799\n",
            "Epoch 135/200\n",
            "19200/19200 [==============================] - 3s 132us/sample - loss: 0.4352 - acc: 0.8196 - f1_m: 0.4789 - val_loss: 0.4428 - val_acc: 0.8085 - val_f1_m: 0.4914\n",
            "Epoch 136/200\n",
            "19200/19200 [==============================] - 3s 131us/sample - loss: 0.4358 - acc: 0.8201 - f1_m: 0.4856 - val_loss: 0.4411 - val_acc: 0.8123 - val_f1_m: 0.4884\n",
            "Epoch 137/200\n",
            "19200/19200 [==============================] - 3s 133us/sample - loss: 0.4346 - acc: 0.8224 - f1_m: 0.4916 - val_loss: 0.4400 - val_acc: 0.8121 - val_f1_m: 0.4731\n",
            "Epoch 138/200\n",
            "19200/19200 [==============================] - 3s 133us/sample - loss: 0.4359 - acc: 0.8212 - f1_m: 0.4878 - val_loss: 0.4386 - val_acc: 0.8121 - val_f1_m: 0.4694\n",
            "Epoch 139/200\n",
            "19200/19200 [==============================] - 3s 134us/sample - loss: 0.4353 - acc: 0.8189 - f1_m: 0.4831 - val_loss: 0.4404 - val_acc: 0.8119 - val_f1_m: 0.4819\n",
            "Epoch 140/200\n",
            "19200/19200 [==============================] - 3s 133us/sample - loss: 0.4338 - acc: 0.8203 - f1_m: 0.4825 - val_loss: 0.4390 - val_acc: 0.8125 - val_f1_m: 0.4780\n",
            "Epoch 141/200\n",
            "19200/19200 [==============================] - 3s 133us/sample - loss: 0.4341 - acc: 0.8206 - f1_m: 0.4827 - val_loss: 0.4386 - val_acc: 0.8129 - val_f1_m: 0.4761\n",
            "Epoch 142/200\n",
            "19200/19200 [==============================] - 3s 135us/sample - loss: 0.4351 - acc: 0.8192 - f1_m: 0.4808 - val_loss: 0.4384 - val_acc: 0.8133 - val_f1_m: 0.4766\n",
            "Epoch 143/200\n",
            "19200/19200 [==============================] - 3s 133us/sample - loss: 0.4325 - acc: 0.8206 - f1_m: 0.4867 - val_loss: 0.4384 - val_acc: 0.8127 - val_f1_m: 0.4746\n",
            "Epoch 144/200\n",
            "19200/19200 [==============================] - 3s 133us/sample - loss: 0.4332 - acc: 0.8217 - f1_m: 0.4898 - val_loss: 0.4384 - val_acc: 0.8131 - val_f1_m: 0.4739\n",
            "Epoch 145/200\n",
            "19200/19200 [==============================] - 3s 133us/sample - loss: 0.4336 - acc: 0.8207 - f1_m: 0.4850 - val_loss: 0.4385 - val_acc: 0.8127 - val_f1_m: 0.4740\n",
            "Epoch 146/200\n",
            "19200/19200 [==============================] - 3s 132us/sample - loss: 0.4332 - acc: 0.8220 - f1_m: 0.4915 - val_loss: 0.4385 - val_acc: 0.8131 - val_f1_m: 0.4751\n",
            "Epoch 147/200\n",
            "19200/19200 [==============================] - 3s 132us/sample - loss: 0.4334 - acc: 0.8217 - f1_m: 0.4890 - val_loss: 0.4385 - val_acc: 0.8131 - val_f1_m: 0.4751\n",
            "Epoch 148/200\n",
            "19200/19200 [==============================] - 3s 132us/sample - loss: 0.4318 - acc: 0.8220 - f1_m: 0.4899 - val_loss: 0.4385 - val_acc: 0.8131 - val_f1_m: 0.4739\n",
            "Epoch 149/200\n",
            "19200/19200 [==============================] - 3s 136us/sample - loss: 0.4335 - acc: 0.8203 - f1_m: 0.4884 - val_loss: 0.4385 - val_acc: 0.8133 - val_f1_m: 0.4760\n",
            "Epoch 150/200\n",
            "19200/19200 [==============================] - 3s 136us/sample - loss: 0.4342 - acc: 0.8209 - f1_m: 0.4857 - val_loss: 0.4386 - val_acc: 0.8129 - val_f1_m: 0.4755\n",
            "Epoch 151/200\n",
            "19200/19200 [==============================] - 3s 138us/sample - loss: 0.4321 - acc: 0.8230 - f1_m: 0.4917 - val_loss: 0.4386 - val_acc: 0.8131 - val_f1_m: 0.4757\n",
            "Epoch 152/200\n",
            "19200/19200 [==============================] - 3s 135us/sample - loss: 0.4335 - acc: 0.8202 - f1_m: 0.4862 - val_loss: 0.4386 - val_acc: 0.8129 - val_f1_m: 0.4749\n",
            "Epoch 153/200\n",
            "19200/19200 [==============================] - 3s 134us/sample - loss: 0.4339 - acc: 0.8208 - f1_m: 0.4877 - val_loss: 0.4385 - val_acc: 0.8129 - val_f1_m: 0.4742\n",
            "Epoch 154/200\n",
            "19200/19200 [==============================] - 3s 133us/sample - loss: 0.4317 - acc: 0.8209 - f1_m: 0.4882 - val_loss: 0.4385 - val_acc: 0.8129 - val_f1_m: 0.4742\n",
            "Epoch 155/200\n",
            "19200/19200 [==============================] - 3s 135us/sample - loss: 0.4334 - acc: 0.8217 - f1_m: 0.4903 - val_loss: 0.4385 - val_acc: 0.8129 - val_f1_m: 0.4742\n",
            "Epoch 156/200\n",
            "19200/19200 [==============================] - 3s 132us/sample - loss: 0.4327 - acc: 0.8216 - f1_m: 0.4899 - val_loss: 0.4385 - val_acc: 0.8129 - val_f1_m: 0.4742\n",
            "Epoch 157/200\n",
            "19200/19200 [==============================] - 3s 133us/sample - loss: 0.4314 - acc: 0.8215 - f1_m: 0.4906 - val_loss: 0.4386 - val_acc: 0.8129 - val_f1_m: 0.4742\n",
            "Epoch 158/200\n",
            "19200/19200 [==============================] - 3s 133us/sample - loss: 0.4332 - acc: 0.8197 - f1_m: 0.4835 - val_loss: 0.4386 - val_acc: 0.8129 - val_f1_m: 0.4742\n",
            "Epoch 159/200\n",
            "19200/19200 [==============================] - 3s 134us/sample - loss: 0.4315 - acc: 0.8204 - f1_m: 0.4855 - val_loss: 0.4386 - val_acc: 0.8129 - val_f1_m: 0.4742\n",
            "Epoch 160/200\n",
            "19200/19200 [==============================] - 3s 132us/sample - loss: 0.4330 - acc: 0.8219 - f1_m: 0.4927 - val_loss: 0.4386 - val_acc: 0.8127 - val_f1_m: 0.4740\n",
            "Epoch 161/200\n",
            "19200/19200 [==============================] - 3s 133us/sample - loss: 0.4327 - acc: 0.8224 - f1_m: 0.4920 - val_loss: 0.4386 - val_acc: 0.8129 - val_f1_m: 0.4749\n",
            "Epoch 162/200\n",
            "19200/19200 [==============================] - 3s 134us/sample - loss: 0.4325 - acc: 0.8211 - f1_m: 0.4900 - val_loss: 0.4386 - val_acc: 0.8129 - val_f1_m: 0.4749\n",
            "Epoch 163/200\n",
            "19200/19200 [==============================] - 3s 133us/sample - loss: 0.4340 - acc: 0.8204 - f1_m: 0.4851 - val_loss: 0.4387 - val_acc: 0.8129 - val_f1_m: 0.4749\n",
            "Epoch 164/200\n",
            "19200/19200 [==============================] - 3s 133us/sample - loss: 0.4333 - acc: 0.8203 - f1_m: 0.4870 - val_loss: 0.4387 - val_acc: 0.8129 - val_f1_m: 0.4749\n",
            "Epoch 165/200\n",
            "19200/19200 [==============================] - 3s 134us/sample - loss: 0.4328 - acc: 0.8214 - f1_m: 0.4869 - val_loss: 0.4387 - val_acc: 0.8129 - val_f1_m: 0.4749\n",
            "Epoch 166/200\n",
            "19200/19200 [==============================] - 3s 132us/sample - loss: 0.4329 - acc: 0.8216 - f1_m: 0.4887 - val_loss: 0.4387 - val_acc: 0.8129 - val_f1_m: 0.4749\n",
            "Epoch 167/200\n",
            "19200/19200 [==============================] - 3s 133us/sample - loss: 0.4329 - acc: 0.8214 - f1_m: 0.4896 - val_loss: 0.4387 - val_acc: 0.8129 - val_f1_m: 0.4749\n",
            "Epoch 168/200\n",
            "19200/19200 [==============================] - 3s 147us/sample - loss: 0.4332 - acc: 0.8210 - f1_m: 0.4879 - val_loss: 0.4387 - val_acc: 0.8129 - val_f1_m: 0.4749\n",
            "Epoch 169/200\n",
            "19200/19200 [==============================] - 3s 156us/sample - loss: 0.4340 - acc: 0.8228 - f1_m: 0.4917 - val_loss: 0.4387 - val_acc: 0.8129 - val_f1_m: 0.4749\n",
            "Epoch 170/200\n",
            "19200/19200 [==============================] - 3s 147us/sample - loss: 0.4332 - acc: 0.8222 - f1_m: 0.4915 - val_loss: 0.4387 - val_acc: 0.8129 - val_f1_m: 0.4749\n",
            "Epoch 171/200\n",
            "19200/19200 [==============================] - 3s 132us/sample - loss: 0.4319 - acc: 0.8227 - f1_m: 0.4946 - val_loss: 0.4388 - val_acc: 0.8129 - val_f1_m: 0.4749\n",
            "Epoch 172/200\n",
            "19200/19200 [==============================] - 3s 131us/sample - loss: 0.4322 - acc: 0.8206 - f1_m: 0.4896 - val_loss: 0.4388 - val_acc: 0.8129 - val_f1_m: 0.4749\n",
            "Epoch 173/200\n",
            "19200/19200 [==============================] - 3s 132us/sample - loss: 0.4323 - acc: 0.8216 - f1_m: 0.4886 - val_loss: 0.4388 - val_acc: 0.8129 - val_f1_m: 0.4749\n",
            "Epoch 174/200\n",
            "19200/19200 [==============================] - 3s 132us/sample - loss: 0.4320 - acc: 0.8223 - f1_m: 0.4921 - val_loss: 0.4388 - val_acc: 0.8129 - val_f1_m: 0.4749\n",
            "Epoch 175/200\n",
            "19200/19200 [==============================] - 3s 132us/sample - loss: 0.4344 - acc: 0.8210 - f1_m: 0.4874 - val_loss: 0.4388 - val_acc: 0.8129 - val_f1_m: 0.4749\n",
            "Epoch 176/200\n",
            "19200/19200 [==============================] - 3s 133us/sample - loss: 0.4327 - acc: 0.8215 - f1_m: 0.4889 - val_loss: 0.4388 - val_acc: 0.8129 - val_f1_m: 0.4749\n"
          ],
          "name": "stdout"
        },
        {
          "output_type": "execute_result",
          "data": {
            "text/plain": [
              "<tensorflow.python.keras.callbacks.History at 0x7f5caca05a20>"
            ]
          },
          "metadata": {
            "tags": []
          },
          "execution_count": 273
        }
      ]
    },
    {
      "cell_type": "code",
      "metadata": {
        "id": "dD2230zMGiEU",
        "colab_type": "code",
        "outputId": "0b73ed22-0e90-4f5c-f09c-b16a81419bd3",
        "colab": {
          "base_uri": "https://localhost:8080/",
          "height": 52
        }
      },
      "source": [
        "model.evaluate({'month':months_data,'gender':Gender_1hot_data,'marital':Marital_status_1hot_data,'intdata':raw_data},\n",
        "          y=output,\n",
        "          #class_weight={0:float(np.count_nonzero(output == 1))/(float(np.count_nonzero(output == 1))+float(np.count_nonzero(output == 0))),1:float(np.count_nonzero(output == 0))/(float(np.count_nonzero(output == 1))+float(np.count_nonzero(output == 0)))},\n",
        "          batch_size=batch_size)"
      ],
      "execution_count": 274,
      "outputs": [
        {
          "output_type": "stream",
          "text": [
            "24000/24000 [==============================] - 1s 33us/sample - loss: 0.4278 - acc: 0.8210 - f1_m: 0.4930\n"
          ],
          "name": "stdout"
        },
        {
          "output_type": "execute_result",
          "data": {
            "text/plain": [
              "[0.4278027415275574, 0.82104164, 0.4929747]"
            ]
          },
          "metadata": {
            "tags": []
          },
          "execution_count": 274
        }
      ]
    },
    {
      "cell_type": "code",
      "metadata": {
        "id": "V6vVqP2z1gHz",
        "colab_type": "code",
        "colab": {}
      },
      "source": [
        "credit = pd.read_csv('/content/credit_card_default_test.csv')"
      ],
      "execution_count": 0,
      "outputs": []
    },
    {
      "cell_type": "code",
      "metadata": {
        "id": "lTpyqQLNr8mP",
        "colab_type": "code",
        "colab": {
          "base_uri": "https://localhost:8080/",
          "height": 527
        },
        "outputId": "4c7e57c1-f0ff-4853-8574-ad8beda9a81d"
      },
      "source": [
        "credit.info()"
      ],
      "execution_count": 276,
      "outputs": [
        {
          "output_type": "stream",
          "text": [
            "<class 'pandas.core.frame.DataFrame'>\n",
            "RangeIndex: 6000 entries, 0 to 5999\n",
            "Data columns (total 24 columns):\n",
            "Client_ID           6000 non-null object\n",
            "Balance_Limit_V1    6000 non-null object\n",
            "Gender              6000 non-null object\n",
            "EDUCATION_STATUS    6000 non-null object\n",
            "MARITAL_STATUS      6000 non-null object\n",
            "AGE                 6000 non-null object\n",
            "PAY_JULY            6000 non-null int64\n",
            "PAY_AUG             6000 non-null int64\n",
            "PAY_SEP             6000 non-null int64\n",
            "PAY_OCT             6000 non-null int64\n",
            "PAY_NOV             6000 non-null int64\n",
            "PAY_DEC             6000 non-null int64\n",
            "DUE_AMT_JULY        6000 non-null int64\n",
            "DUE_AMT_AUG         6000 non-null int64\n",
            "DUE_AMT_SEP         6000 non-null int64\n",
            "DUE_AMT_OCT         6000 non-null int64\n",
            "DUE_AMT_NOV         6000 non-null int64\n",
            "DUE_AMT_DEC         6000 non-null int64\n",
            "PAID_AMT_JULY       6000 non-null int64\n",
            "PAID_AMT_AUG        6000 non-null int64\n",
            "PAID_AMT_SEP        6000 non-null int64\n",
            "PAID_AMT_OCT        6000 non-null int64\n",
            "PAID_AMT_NOV        6000 non-null int64\n",
            "PAID_AMT_DEC        6000 non-null int64\n",
            "dtypes: int64(18), object(6)\n",
            "memory usage: 1.1+ MB\n"
          ],
          "name": "stdout"
        }
      ]
    },
    {
      "cell_type": "code",
      "metadata": {
        "id": "taOyWztanRBv",
        "colab_type": "code",
        "colab": {}
      },
      "source": [
        "credit['limit'] = credit.Balance_Limit_V1.copy()"
      ],
      "execution_count": 0,
      "outputs": []
    },
    {
      "cell_type": "code",
      "metadata": {
        "id": "LphpTom_nXRZ",
        "colab_type": "code",
        "colab": {
          "base_uri": "https://localhost:8080/",
          "height": 193
        },
        "outputId": "43fbe0dc-1563-43b7-ae90-0cde1472fb2b"
      },
      "source": [
        "for i in range (len(credit['limit'])):\n",
        "  if (credit['limit'][i][-1]=='M'):\n",
        "    credit['limit'][i]=int(float(credit['Balance_Limit_V1'][i][:-1])*1000000)\n",
        "  elif (credit['limit'][i][-1]=='K'):\n",
        "    credit['limit'][i]=int(float(credit['limit'][i][:-1])*1000)\n",
        "  else:\n",
        "    credit['limit'][i]=int(credit['limit'][i])"
      ],
      "execution_count": 278,
      "outputs": [
        {
          "output_type": "stream",
          "text": [
            "/usr/local/lib/python3.6/dist-packages/ipykernel_launcher.py:5: SettingWithCopyWarning: \n",
            "A value is trying to be set on a copy of a slice from a DataFrame\n",
            "\n",
            "See the caveats in the documentation: http://pandas.pydata.org/pandas-docs/stable/user_guide/indexing.html#returning-a-view-versus-a-copy\n",
            "  \"\"\"\n",
            "/usr/local/lib/python3.6/dist-packages/ipykernel_launcher.py:3: SettingWithCopyWarning: \n",
            "A value is trying to be set on a copy of a slice from a DataFrame\n",
            "\n",
            "See the caveats in the documentation: http://pandas.pydata.org/pandas-docs/stable/user_guide/indexing.html#returning-a-view-versus-a-copy\n",
            "  This is separate from the ipykernel package so we can avoid doing imports until\n"
          ],
          "name": "stderr"
        }
      ]
    },
    {
      "cell_type": "code",
      "metadata": {
        "id": "o-xuGPNRnYyR",
        "colab_type": "code",
        "colab": {}
      },
      "source": [
        "credit=credit.drop('Balance_Limit_V1',axis=1)"
      ],
      "execution_count": 0,
      "outputs": []
    },
    {
      "cell_type": "code",
      "metadata": {
        "id": "JdK7YzjXnbMr",
        "colab_type": "code",
        "colab": {}
      },
      "source": [
        "label_encoder = preprocessing.LabelEncoder()\n",
        "from sklearn.preprocessing import OneHotEncoder\n",
        "cat_encoder = OneHotEncoder()"
      ],
      "execution_count": 0,
      "outputs": []
    },
    {
      "cell_type": "code",
      "metadata": {
        "id": "6b96Pg4unqH3",
        "colab_type": "code",
        "colab": {}
      },
      "source": [
        "def onehot(data):\n",
        "  label_encoder = preprocessing.LabelEncoder()\n",
        "  from sklearn.preprocessing import OneHotEncoder\n",
        "  cat_encoder = OneHotEncoder()\n",
        "  encoded = label_encoder.fit_transform(data)\n",
        "  encoded_1hot=cat_encoder.fit_transform(encoded.reshape(-1,1))\n",
        "  return encoded_1hot.toarray()"
      ],
      "execution_count": 0,
      "outputs": []
    },
    {
      "cell_type": "code",
      "metadata": {
        "id": "4QoJ8co0nsKR",
        "colab_type": "code",
        "colab": {}
      },
      "source": [
        "Gender_1hot_data  = onehot(credit[\"Gender\"])\n",
        "credit = credit.drop(\"Gender\",axis=1)"
      ],
      "execution_count": 0,
      "outputs": []
    },
    {
      "cell_type": "code",
      "metadata": {
        "id": "sD9e6JFOnuAL",
        "colab_type": "code",
        "colab": {
          "base_uri": "https://localhost:8080/",
          "height": 140
        },
        "outputId": "5a2a2ae0-7932-43ab-d540-40d45ee01737"
      },
      "source": [
        "Marital_status_1hot_data = onehot(credit[\"MARITAL_STATUS\"])\n",
        "print(Marital_status_1hot_data)\n",
        "credit = credit.drop(\"MARITAL_STATUS\",axis=1)"
      ],
      "execution_count": 283,
      "outputs": [
        {
          "output_type": "stream",
          "text": [
            "[[0. 1.]\n",
            " [0. 1.]\n",
            " [1. 0.]\n",
            " ...\n",
            " [0. 1.]\n",
            " [0. 1.]\n",
            " [0. 1.]]\n"
          ],
          "name": "stdout"
        }
      ]
    },
    {
      "cell_type": "code",
      "metadata": {
        "id": "WiHF8Rurnxww",
        "colab_type": "code",
        "colab": {}
      },
      "source": [
        "credit[\"EDUCATION_STATUS\"]=label_encoder.fit_transform(credit['EDUCATION_STATUS'])"
      ],
      "execution_count": 0,
      "outputs": []
    },
    {
      "cell_type": "code",
      "metadata": {
        "id": "ZSh9N5Dmnztp",
        "colab_type": "code",
        "colab": {}
      },
      "source": [
        "credit[\"AGE\"]=label_encoder.fit_transform(credit['AGE'])"
      ],
      "execution_count": 0,
      "outputs": []
    },
    {
      "cell_type": "code",
      "metadata": {
        "id": "KIkIc2PZn0z0",
        "colab_type": "code",
        "colab": {
          "base_uri": "https://localhost:8080/",
          "height": 215
        },
        "outputId": "8cf0bdda-0e38-4c3c-bc2d-f17a5da3fb1c"
      },
      "source": [
        "credit = credit.drop(\"Client_ID\",axis=1)\n",
        "credit.head()"
      ],
      "execution_count": 286,
      "outputs": [
        {
          "output_type": "execute_result",
          "data": {
            "text/html": [
              "<div>\n",
              "<style scoped>\n",
              "    .dataframe tbody tr th:only-of-type {\n",
              "        vertical-align: middle;\n",
              "    }\n",
              "\n",
              "    .dataframe tbody tr th {\n",
              "        vertical-align: top;\n",
              "    }\n",
              "\n",
              "    .dataframe thead th {\n",
              "        text-align: right;\n",
              "    }\n",
              "</style>\n",
              "<table border=\"1\" class=\"dataframe\">\n",
              "  <thead>\n",
              "    <tr style=\"text-align: right;\">\n",
              "      <th></th>\n",
              "      <th>EDUCATION_STATUS</th>\n",
              "      <th>AGE</th>\n",
              "      <th>PAY_JULY</th>\n",
              "      <th>PAY_AUG</th>\n",
              "      <th>PAY_SEP</th>\n",
              "      <th>PAY_OCT</th>\n",
              "      <th>PAY_NOV</th>\n",
              "      <th>PAY_DEC</th>\n",
              "      <th>DUE_AMT_JULY</th>\n",
              "      <th>DUE_AMT_AUG</th>\n",
              "      <th>DUE_AMT_SEP</th>\n",
              "      <th>DUE_AMT_OCT</th>\n",
              "      <th>DUE_AMT_NOV</th>\n",
              "      <th>DUE_AMT_DEC</th>\n",
              "      <th>PAID_AMT_JULY</th>\n",
              "      <th>PAID_AMT_AUG</th>\n",
              "      <th>PAID_AMT_SEP</th>\n",
              "      <th>PAID_AMT_OCT</th>\n",
              "      <th>PAID_AMT_NOV</th>\n",
              "      <th>PAID_AMT_DEC</th>\n",
              "      <th>limit</th>\n",
              "    </tr>\n",
              "  </thead>\n",
              "  <tbody>\n",
              "    <tr>\n",
              "      <th>0</th>\n",
              "      <td>2</td>\n",
              "      <td>0</td>\n",
              "      <td>0</td>\n",
              "      <td>0</td>\n",
              "      <td>0</td>\n",
              "      <td>0</td>\n",
              "      <td>0</td>\n",
              "      <td>0</td>\n",
              "      <td>194188</td>\n",
              "      <td>198510</td>\n",
              "      <td>128316</td>\n",
              "      <td>311201</td>\n",
              "      <td>351790</td>\n",
              "      <td>352206</td>\n",
              "      <td>13710</td>\n",
              "      <td>12816</td>\n",
              "      <td>195701</td>\n",
              "      <td>53246</td>\n",
              "      <td>17256</td>\n",
              "      <td>12991</td>\n",
              "      <td>500000</td>\n",
              "    </tr>\n",
              "    <tr>\n",
              "      <th>1</th>\n",
              "      <td>2</td>\n",
              "      <td>0</td>\n",
              "      <td>0</td>\n",
              "      <td>0</td>\n",
              "      <td>0</td>\n",
              "      <td>0</td>\n",
              "      <td>0</td>\n",
              "      <td>0</td>\n",
              "      <td>87115</td>\n",
              "      <td>89427</td>\n",
              "      <td>91823</td>\n",
              "      <td>94181</td>\n",
              "      <td>97221</td>\n",
              "      <td>100275</td>\n",
              "      <td>3756</td>\n",
              "      <td>3842</td>\n",
              "      <td>3890</td>\n",
              "      <td>4620</td>\n",
              "      <td>4620</td>\n",
              "      <td>4620</td>\n",
              "      <td>200000</td>\n",
              "    </tr>\n",
              "    <tr>\n",
              "      <th>2</th>\n",
              "      <td>2</td>\n",
              "      <td>2</td>\n",
              "      <td>-1</td>\n",
              "      <td>-1</td>\n",
              "      <td>2</td>\n",
              "      <td>0</td>\n",
              "      <td>0</td>\n",
              "      <td>-1</td>\n",
              "      <td>2693</td>\n",
              "      <td>9573</td>\n",
              "      <td>8984</td>\n",
              "      <td>11294</td>\n",
              "      <td>9561</td>\n",
              "      <td>993</td>\n",
              "      <td>6930</td>\n",
              "      <td>0</td>\n",
              "      <td>2310</td>\n",
              "      <td>0</td>\n",
              "      <td>2310</td>\n",
              "      <td>40060</td>\n",
              "      <td>400000</td>\n",
              "    </tr>\n",
              "    <tr>\n",
              "      <th>3</th>\n",
              "      <td>0</td>\n",
              "      <td>0</td>\n",
              "      <td>1</td>\n",
              "      <td>-1</td>\n",
              "      <td>-1</td>\n",
              "      <td>-2</td>\n",
              "      <td>-2</td>\n",
              "      <td>-2</td>\n",
              "      <td>0</td>\n",
              "      <td>5775</td>\n",
              "      <td>5775</td>\n",
              "      <td>0</td>\n",
              "      <td>0</td>\n",
              "      <td>0</td>\n",
              "      <td>5775</td>\n",
              "      <td>5775</td>\n",
              "      <td>0</td>\n",
              "      <td>0</td>\n",
              "      <td>0</td>\n",
              "      <td>0</td>\n",
              "      <td>1500000</td>\n",
              "    </tr>\n",
              "    <tr>\n",
              "      <th>4</th>\n",
              "      <td>1</td>\n",
              "      <td>2</td>\n",
              "      <td>0</td>\n",
              "      <td>0</td>\n",
              "      <td>-2</td>\n",
              "      <td>-2</td>\n",
              "      <td>-2</td>\n",
              "      <td>-2</td>\n",
              "      <td>85257</td>\n",
              "      <td>0</td>\n",
              "      <td>0</td>\n",
              "      <td>0</td>\n",
              "      <td>0</td>\n",
              "      <td>0</td>\n",
              "      <td>0</td>\n",
              "      <td>0</td>\n",
              "      <td>0</td>\n",
              "      <td>0</td>\n",
              "      <td>0</td>\n",
              "      <td>0</td>\n",
              "      <td>100000</td>\n",
              "    </tr>\n",
              "  </tbody>\n",
              "</table>\n",
              "</div>"
            ],
            "text/plain": [
              "   EDUCATION_STATUS  AGE  PAY_JULY  ...  PAID_AMT_NOV  PAID_AMT_DEC    limit\n",
              "0                 2    0         0  ...         17256         12991   500000\n",
              "1                 2    0         0  ...          4620          4620   200000\n",
              "2                 2    2        -1  ...          2310         40060   400000\n",
              "3                 0    0         1  ...             0             0  1500000\n",
              "4                 1    2         0  ...             0             0   100000\n",
              "\n",
              "[5 rows x 21 columns]"
            ]
          },
          "metadata": {
            "tags": []
          },
          "execution_count": 286
        }
      ]
    },
    {
      "cell_type": "code",
      "metadata": {
        "id": "KFxi2rsNn2iZ",
        "colab_type": "code",
        "colab": {}
      },
      "source": [
        "min_max_scaler = preprocessing.MinMaxScaler()\n",
        "raw_data = min_max_scaler.fit_transform(credit.values)"
      ],
      "execution_count": 0,
      "outputs": []
    },
    {
      "cell_type": "code",
      "metadata": {
        "id": "kMSmdUZbn5pb",
        "colab_type": "code",
        "colab": {}
      },
      "source": [
        "months_data = credit[[\"PAY_JULY\",\t\"DUE_AMT_JULY\",\t\"PAID_AMT_JULY\",  \"PAY_AUG\",\t\"DUE_AMT_AUG\",\t\"PAID_AMT_AUG\",\t\"PAY_SEP\", \"DUE_AMT_SEP\",\t\"PAID_AMT_SEP\",\t \"PAY_OCT\",\t\"DUE_AMT_OCT\",\t\"PAID_AMT_OCT\", \t\"PAY_NOV\",\t\"DUE_AMT_NOV\",\t\"PAID_AMT_NOV\", \t\"PAY_DEC\",\t\"DUE_AMT_DEC\",\t\"PAID_AMT_DEC\", \t]]"
      ],
      "execution_count": 0,
      "outputs": []
    },
    {
      "cell_type": "code",
      "metadata": {
        "id": "IZbteAhyoHPk",
        "colab_type": "code",
        "colab": {
          "base_uri": "https://localhost:8080/",
          "height": 158
        },
        "outputId": "a68ef5ef-d4e9-4ac0-e594-fad88c3cc13e"
      },
      "source": [
        "months_data = min_max_scaler.fit_transform(months_data.values)\n",
        "print(months_data)\n",
        "\n",
        "print(months_data.shape)"
      ],
      "execution_count": 289,
      "outputs": [
        {
          "output_type": "stream",
          "text": [
            "[[0.2        0.3077513  0.01947103 ... 0.22222222 0.33842474 0.02349127]\n",
            " [0.2        0.24807494 0.0053343  ... 0.22222222 0.12888177 0.00835422]\n",
            " [0.1        0.20102295 0.00984203 ... 0.11111111 0.04630421 0.0724394 ]\n",
            " ...\n",
            " [0.2        0.30466251 0.00807103 ... 0.22222222 0.123166   0.02088555]\n",
            " [0.1        0.20045669 0.         ... 0.22222222 0.07429834 0.00041771]\n",
            " [0.2        0.40013421 0.06561354 ... 0.22222222 0.34011152 0.08369589]]\n",
            "(6000, 18)\n"
          ],
          "name": "stdout"
        }
      ]
    },
    {
      "cell_type": "code",
      "metadata": {
        "id": "0VuLPXhJoKhW",
        "colab_type": "code",
        "colab": {}
      },
      "source": [
        "credit= credit.drop([\"PAY_JULY\",\t\"DUE_AMT_JULY\",\t\"PAID_AMT_JULY\",  \"PAY_AUG\",\t\"DUE_AMT_AUG\",\t\"PAID_AMT_AUG\",\t\"PAY_SEP\", \"DUE_AMT_SEP\",\t\"PAID_AMT_SEP\",\t \"PAY_OCT\",\t\"DUE_AMT_OCT\",\t\"PAID_AMT_OCT\", \t\"PAY_NOV\",\t\"DUE_AMT_NOV\",\t\"PAID_AMT_NOV\", \t\"PAY_DEC\",\t\"DUE_AMT_DEC\",\t\"PAID_AMT_DEC\", \t],axis=1)"
      ],
      "execution_count": 0,
      "outputs": []
    },
    {
      "cell_type": "code",
      "metadata": {
        "id": "ElHPQkKnoNgu",
        "colab_type": "code",
        "colab": {}
      },
      "source": [
        "raw_data = min_max_scaler.fit_transform(np.asarray(credit.values,dtype=np.float64))"
      ],
      "execution_count": 0,
      "outputs": []
    },
    {
      "cell_type": "code",
      "metadata": {
        "id": "YJG3Hjn2oQbC",
        "colab_type": "code",
        "colab": {}
      },
      "source": [
        "prediction = model.predict({'month':months_data,'gender':Gender_1hot_data,'marital':Marital_status_1hot_data,'intdata':raw_data})"
      ],
      "execution_count": 0,
      "outputs": []
    },
    {
      "cell_type": "code",
      "metadata": {
        "id": "-B1EKnhGshuG",
        "colab_type": "code",
        "colab": {
          "base_uri": "https://localhost:8080/",
          "height": 140
        },
        "outputId": "2d3047c4-eedc-4751-ea67-b7fda2a91832"
      },
      "source": [
        "prediction"
      ],
      "execution_count": 293,
      "outputs": [
        {
          "output_type": "execute_result",
          "data": {
            "text/plain": [
              "array([[0.0822918 ],\n",
              "       [0.26220366],\n",
              "       [0.11101284],\n",
              "       ...,\n",
              "       [0.14765818],\n",
              "       [0.12270223],\n",
              "       [0.09235326]], dtype=float32)"
            ]
          },
          "metadata": {
            "tags": []
          },
          "execution_count": 293
        }
      ]
    },
    {
      "cell_type": "code",
      "metadata": {
        "id": "0m7cS8ISsnvT",
        "colab_type": "code",
        "colab": {}
      },
      "source": [
        "output_file = open('output.txt','w')\n",
        "for value in prediction:\n",
        "  output_file.write(str(value)+'\\n')"
      ],
      "execution_count": 0,
      "outputs": []
    },
    {
      "cell_type": "code",
      "metadata": {
        "id": "3HbIvH6VxmrG",
        "colab_type": "code",
        "colab": {}
      },
      "source": [
        ""
      ],
      "execution_count": 0,
      "outputs": []
    }
  ]
}